{
 "cells": [
  {
   "cell_type": "code",
   "execution_count": 1,
   "id": "dac03acf-d2bb-4f2e-8d8f-436a7dab8896",
   "metadata": {},
   "outputs": [],
   "source": [
    "from pathlib import Path\n",
    "import numpy as np\n",
    "import matplotlib.pyplot as plt"
   ]
  },
  {
   "cell_type": "code",
   "execution_count": 2,
   "id": "713d3c44-472a-4a4f-b878-6c9a5c1d8006",
   "metadata": {},
   "outputs": [],
   "source": [
    "data_dir = Path('data')\n",
    "delta_quantity_path = Path.joinpath(data_dir, Path('delta_quantity_under_1b.npz'))"
   ]
  },
  {
   "cell_type": "code",
   "execution_count": 3,
   "id": "82873dfb-799e-492c-a7c1-18d5506952ef",
   "metadata": {},
   "outputs": [
    {
     "name": "stdout",
     "output_type": "stream",
     "text": [
      "δ quantity data is available for following orders:\n",
      "order_1\n",
      "order_10\n",
      "order_100\n",
      "order_1000\n"
     ]
    }
   ],
   "source": [
    "delta_quantity = np.load(delta_quantity_path)\n",
    "print('δ quantity data is available for following orders:')\n",
    "for order in delta_quantity.keys():\n",
    "    print(order)"
   ]
  },
  {
   "cell_type": "code",
   "execution_count": 4,
   "id": "e080d6fc-7f06-4aa2-95c2-eb1ca5cd2117",
   "metadata": {},
   "outputs": [],
   "source": [
    "def calculate_qere(order, delta_quantity, order_1_delta_quantity):\n",
    "    ratio = delta_quantity/order_1_delta_quantity\n",
    "    return abs(ratio-order) / order"
   ]
  },
  {
   "cell_type": "code",
   "execution_count": 5,
   "id": "5525d8b4-eba0-4a00-9131-866980db7fb9",
   "metadata": {},
   "outputs": [
    {
     "name": "stdout",
     "output_type": "stream",
     "text": [
      "QERE for δ of order_10  : 0.36728579988016774\n",
      "QERE for δ of order_100 : 0.27822049131216303\n",
      "QERE for δ of order_1000: 0.09775314559616538\n"
     ]
    }
   ],
   "source": [
    "qere_data = {}\n",
    "order_1_delta_quantity = delta_quantity['order_1'][-1]\n",
    "for order in ['order_10', 'order_100', 'order_1000']:\n",
    "    order_int = int(order.split('_')[1])\n",
    "    qere = calculate_qere(order_int,\n",
    "                          delta_quantity[order][-1],\n",
    "                          order_1_delta_quantity)\n",
    "    print(f'QERE for δ of {order:10}: {qere}')\n",
    "    qere_data[order_int] = qere"
   ]
  },
  {
   "cell_type": "code",
   "execution_count": 6,
   "id": "6ddd5437-78fc-4146-a059-88393faeb89a",
   "metadata": {},
   "outputs": [
    {
     "data": {
      "image/png": "[encoded data removed]",
      "text/plain": [
       "<Figure size 576x360 with 1 Axes>"
      ]
     },
     "metadata": {
      "needs_background": "light"
     },
     "output_type": "display_data"
    }
   ],
   "source": [
    "plt.close()\n",
    "fig, ax = plt.subplots()\n",
    "fig.set_size_inches(8, 5)\n",
    "ax.plot(qere_data.keys(), qere_data.values(), color='tab:green', linewidth=2)\n",
    "ax.set_title('Quantity Ratio Estimation Error')\n",
    "ax.set_xlabel('$\\delta$ Order')\n",
    "ax.set_xscale('log')\n",
    "ax.set_ylabel('QERE')\n",
    "plt.show()"
   ]
  },
  {
   "cell_type": "code",
   "execution_count": null,
   "id": "5694a3ca-4823-45b3-9aef-6a06794265a6",
   "metadata": {},
   "outputs": [],
   "source": []
  }
 ],
 "metadata": {
  "kernelspec": {
   "display_name": "Python 3",
   "language": "python",
   "name": "python3"
  },
  "language_info": {
   "codemirror_mode": {
    "name": "ipython",
    "version": 3
   },
   "file_extension": ".py",
   "mimetype": "text/x-python",
   "name": "python",
   "nbconvert_exporter": "python",
   "pygments_lexer": "ipython3",
   "version": "3.9.1"
  }
 },
 "nbformat": 4,
 "nbformat_minor": 5
}
