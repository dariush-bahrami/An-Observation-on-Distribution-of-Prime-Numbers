{
 "cells": [
  {
   "cell_type": "markdown",
   "id": "2ae5d651-f8c6-4d38-b12a-ab5eed7210a8",
   "metadata": {},
   "source": [
    "[![Open In Colab](https://colab.research.google.com/assets/colab-badge.svg)](https://colab.research.google.com/github/dariush-bahrami/An-Observation-on-Distribution-of-Prime-Numbers/blob/master/Jupyter%20Notebooks/Paper%20-%20Figure%205%20-%20Percentage%20of%20most%20frequent%20deltas.ipynb)"
   ]
  },
  {
   "cell_type": "code",
   "execution_count": 1,
   "id": "94678c4a-f47c-4734-9749-ed05ac9f2bd9",
   "metadata": {},
   "outputs": [],
   "source": [
    "import sys\n",
    "from pathlib import Path\n",
    "import pandas as pd\n",
    "from matplotlib import pyplot as plt"
   ]
  },
  {
   "cell_type": "code",
   "execution_count": 2,
   "id": "bfb5cc1d-72ee-466f-a45b-a2c208b15695",
   "metadata": {},
   "outputs": [],
   "source": [
    "data_dir = Path('data')\n",
    "delta_frequency_path = Path.joinpath(data_dir, Path('delta_frequency_under_1b.csv'))"
   ]
  },
  {
   "cell_type": "code",
   "execution_count": 3,
   "id": "15f5d1b0-b9b4-493a-ae43-64bff1c0c57e",
   "metadata": {},
   "outputs": [],
   "source": [
    "try:\n",
    "    df = pd.read_csv(delta_frequency_path)\n",
    "except FileNotFoundError as error:\n",
    "        print(error)\n",
    "        in_colab = 'google.colab' in sys.modules\n",
    "        if in_colab:\n",
    "            print('running on colab, downloading data to session...')\n",
    "            !mkdir data\n",
    "            # Download delta_frequency_under_1b.csv\n",
    "            !wget https://bit.ly/3zcycOz -O data/delta_frequency_under_1b.csv\n",
    "        else:\n",
    "            print('Please download required data from paper repo')"
   ]
  },
  {
   "cell_type": "code",
   "execution_count": 4,
   "id": "a470d1b5-99a9-41db-adde-16e24938ac45",
   "metadata": {},
   "outputs": [
    {
     "data": {
      "text/html": [
       "<div>\n",
       "<style scoped>\n",
       "    .dataframe tbody tr th:only-of-type {\n",
       "        vertical-align: middle;\n",
       "    }\n",
       "\n",
       "    .dataframe tbody tr th {\n",
       "        vertical-align: top;\n",
       "    }\n",
       "\n",
       "    .dataframe thead th {\n",
       "        text-align: right;\n",
       "    }\n",
       "</style>\n",
       "<table border=\"1\" class=\"dataframe\">\n",
       "  <thead>\n",
       "    <tr style=\"text-align: right;\">\n",
       "      <th></th>\n",
       "      <th>delta</th>\n",
       "      <th>delta_log2</th>\n",
       "      <th>frequency</th>\n",
       "      <th>density</th>\n",
       "      <th>cumulative_density</th>\n",
       "    </tr>\n",
       "  </thead>\n",
       "  <tbody>\n",
       "    <tr>\n",
       "      <th>0</th>\n",
       "      <td>2</td>\n",
       "      <td>1.000000</td>\n",
       "      <td>2047829</td>\n",
       "      <td>0.040274</td>\n",
       "      <td>0.040274</td>\n",
       "    </tr>\n",
       "    <tr>\n",
       "      <th>1</th>\n",
       "      <td>1/2</td>\n",
       "      <td>-1.000000</td>\n",
       "      <td>2046288</td>\n",
       "      <td>0.040244</td>\n",
       "      <td>0.080518</td>\n",
       "    </tr>\n",
       "    <tr>\n",
       "      <th>2</th>\n",
       "      <td>3/2</td>\n",
       "      <td>0.584963</td>\n",
       "      <td>1460663</td>\n",
       "      <td>0.028726</td>\n",
       "      <td>0.109244</td>\n",
       "    </tr>\n",
       "    <tr>\n",
       "      <th>3</th>\n",
       "      <td>2/3</td>\n",
       "      <td>-0.584963</td>\n",
       "      <td>1460572</td>\n",
       "      <td>0.028725</td>\n",
       "      <td>0.137968</td>\n",
       "    </tr>\n",
       "  </tbody>\n",
       "</table>\n",
       "</div>"
      ],
      "text/plain": [
       "  delta  delta_log2  frequency   density  cumulative_density\n",
       "0     2    1.000000    2047829  0.040274            0.040274\n",
       "1   1/2   -1.000000    2046288  0.040244            0.080518\n",
       "2   3/2    0.584963    1460663  0.028726            0.109244\n",
       "3   2/3   -0.584963    1460572  0.028725            0.137968"
      ]
     },
     "execution_count": 4,
     "metadata": {},
     "output_type": "execute_result"
    }
   ],
   "source": [
    "df.head(4)"
   ]
  },
  {
   "cell_type": "code",
   "execution_count": 5,
   "id": "38d8ed54-5164-4615-91fe-e2cd8dcb31ff",
   "metadata": {},
   "outputs": [],
   "source": [
    "data = {}\n",
    "total_primes = df['frequency'].sum()\n",
    "accm_density = 0\n",
    "top_nums = 15\n",
    "for i in range(top_nums):\n",
    "    row = df.iloc[i]\n",
    "    accm_density += row['density']\n",
    "    data[row['delta']] = row['density']*100\n"
   ]
  },
  {
   "cell_type": "code",
   "execution_count": 6,
   "id": "7a12d140-b34a-46d4-8a31-0168d32ed2b9",
   "metadata": {
    "tags": []
   },
   "outputs": [
    {
     "data": {
      "image/png": "[encoded data removed]",
      "text/plain": [
       "<Figure size 576x360 with 1 Axes>"
      ]
     },
     "metadata": {
      "needs_background": "light"
     },
     "output_type": "display_data"
    }
   ],
   "source": [
    "figsize = (8, 5)\n",
    "barplot_configs = {'color': 'seagreen',\n",
    "                   'edgecolor':'black'}\n",
    "fig, ax = plt.subplots()\n",
    "fig.set_size_inches(*figsize)\n",
    "ax.bar(data.keys(), data.values(), **barplot_configs)\n",
    "ax.set_title('Most Frequent $\\delta^1$ for Primes Below 1 Billion')\n",
    "ax.set_xlabel('$\\delta^1$')\n",
    "ax.set_ylabel('%')\n",
    "text1 = f'Total Depicted Percentage $\\\\approx$ {int(accm_density*100)}%'\n",
    "ax.text(0.6, 0.95, text1, color='black', transform=ax.transAxes)\n",
    "plt.show()"
   ]
  },
  {
   "cell_type": "code",
   "execution_count": null,
   "id": "b5618402-f636-43c9-acd4-0e2dc6659b06",
   "metadata": {},
   "outputs": [],
   "source": []
  }
 ],
 "metadata": {
  "kernelspec": {
   "display_name": "Python 3",
   "language": "python",
   "name": "python3"
  },
  "language_info": {
   "codemirror_mode": {
    "name": "ipython",
    "version": 3
   },
   "file_extension": ".py",
   "mimetype": "text/x-python",
   "name": "python",
   "nbconvert_exporter": "python",
   "pygments_lexer": "ipython3",
   "version": "3.9.1"
  }
 },
 "nbformat": 4,
 "nbformat_minor": 5
}
