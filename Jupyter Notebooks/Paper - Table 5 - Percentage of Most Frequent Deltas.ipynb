{
 "cells": [
  {
   "cell_type": "code",
   "execution_count": 1,
   "id": "bbfce63b-104e-40a3-a903-8669c6d2d1ff",
   "metadata": {},
   "outputs": [],
   "source": [
    "from pathlib import Path\n",
    "import pandas as pd\n",
    "import matplotlib.pyplot as plt\n",
    "import numpy as np"
   ]
  },
  {
   "cell_type": "code",
   "execution_count": 2,
   "id": "dd2e3c51-5d4a-40f4-95c1-115504b52068",
   "metadata": {},
   "outputs": [],
   "source": [
    "data_dir = Path('data')\n",
    "delta_frequency_path = Path.joinpath(data_dir, Path('delta_frequency_under_1b.csv'))"
   ]
  },
  {
   "cell_type": "code",
   "execution_count": 3,
   "id": "152151cf-a446-4d66-92dd-a8da601f90d0",
   "metadata": {},
   "outputs": [
    {
     "data": {
      "text/html": [
       "<div>\n",
       "<style scoped>\n",
       "    .dataframe tbody tr th:only-of-type {\n",
       "        vertical-align: middle;\n",
       "    }\n",
       "\n",
       "    .dataframe tbody tr th {\n",
       "        vertical-align: top;\n",
       "    }\n",
       "\n",
       "    .dataframe thead th {\n",
       "        text-align: right;\n",
       "    }\n",
       "</style>\n",
       "<table border=\"1\" class=\"dataframe\">\n",
       "  <thead>\n",
       "    <tr style=\"text-align: right;\">\n",
       "      <th></th>\n",
       "      <th>delta</th>\n",
       "      <th>delta_log2</th>\n",
       "      <th>frequency</th>\n",
       "      <th>density</th>\n",
       "      <th>cumulative_density</th>\n",
       "    </tr>\n",
       "  </thead>\n",
       "  <tbody>\n",
       "    <tr>\n",
       "      <th>0</th>\n",
       "      <td>2</td>\n",
       "      <td>1.000000</td>\n",
       "      <td>2047829</td>\n",
       "      <td>0.040274</td>\n",
       "      <td>0.040274</td>\n",
       "    </tr>\n",
       "    <tr>\n",
       "      <th>1</th>\n",
       "      <td>1/2</td>\n",
       "      <td>-1.000000</td>\n",
       "      <td>2046288</td>\n",
       "      <td>0.040244</td>\n",
       "      <td>0.080518</td>\n",
       "    </tr>\n",
       "    <tr>\n",
       "      <th>2</th>\n",
       "      <td>3/2</td>\n",
       "      <td>0.584963</td>\n",
       "      <td>1460663</td>\n",
       "      <td>0.028726</td>\n",
       "      <td>0.109244</td>\n",
       "    </tr>\n",
       "    <tr>\n",
       "      <th>3</th>\n",
       "      <td>2/3</td>\n",
       "      <td>-0.584963</td>\n",
       "      <td>1460572</td>\n",
       "      <td>0.028725</td>\n",
       "      <td>0.137968</td>\n",
       "    </tr>\n",
       "  </tbody>\n",
       "</table>\n",
       "</div>"
      ],
      "text/plain": [
       "  delta  delta_log2  frequency   density  cumulative_density\n",
       "0     2    1.000000    2047829  0.040274            0.040274\n",
       "1   1/2   -1.000000    2046288  0.040244            0.080518\n",
       "2   3/2    0.584963    1460663  0.028726            0.109244\n",
       "3   2/3   -0.584963    1460572  0.028725            0.137968"
      ]
     },
     "execution_count": 3,
     "metadata": {},
     "output_type": "execute_result"
    }
   ],
   "source": [
    "df = pd.read_csv(delta_frequency_path)\n",
    "df.head(4)"
   ]
  },
  {
   "cell_type": "code",
   "execution_count": 5,
   "id": "53e3c203-0efd-40de-a41a-cf2565f3f3bd",
   "metadata": {},
   "outputs": [],
   "source": [
    "total_deltas_quantity = len(df.index)\n",
    "data = {'Primes Coverage (%)': [25, 50, 75, 90, 95, 99, 99.9, 99.99, 99.999, 99.9999, 99.99999],\n",
    "        'Required Deltas Quantity': [],\n",
    "        'Required Deltas (%)': []}\n",
    "for p in data['Primes Coverage (%)']:\n",
    "    quantity = len(df[df['cumulative_density']<(p/100)].index)\n",
    "    data['Required Deltas Quantity'].append(quantity)\n",
    "    data['Required Deltas (%)'].append((quantity/total_deltas_quantity)*100)"
   ]
  },
  {
   "cell_type": "code",
   "execution_count": 6,
   "id": "96954201-edf7-4cbd-8bc3-d628820c1782",
   "metadata": {},
   "outputs": [
    {
     "data": {
      "text/html": [
       "<div>\n",
       "<style scoped>\n",
       "    .dataframe tbody tr th:only-of-type {\n",
       "        vertical-align: middle;\n",
       "    }\n",
       "\n",
       "    .dataframe tbody tr th {\n",
       "        vertical-align: top;\n",
       "    }\n",
       "\n",
       "    .dataframe thead th {\n",
       "        text-align: right;\n",
       "    }\n",
       "</style>\n",
       "<table border=\"1\" class=\"dataframe\">\n",
       "  <thead>\n",
       "    <tr style=\"text-align: right;\">\n",
       "      <th></th>\n",
       "      <th>Primes Coverage (%)</th>\n",
       "      <th>Required Deltas Quantity</th>\n",
       "      <th>Required Deltas (%)</th>\n",
       "    </tr>\n",
       "  </thead>\n",
       "  <tbody>\n",
       "    <tr>\n",
       "      <th>0</th>\n",
       "      <td>25.00000</td>\n",
       "      <td>8</td>\n",
       "      <td>0.239664</td>\n",
       "    </tr>\n",
       "    <tr>\n",
       "      <th>1</th>\n",
       "      <td>50.00000</td>\n",
       "      <td>30</td>\n",
       "      <td>0.898742</td>\n",
       "    </tr>\n",
       "    <tr>\n",
       "      <th>2</th>\n",
       "      <td>75.00000</td>\n",
       "      <td>89</td>\n",
       "      <td>2.666267</td>\n",
       "    </tr>\n",
       "    <tr>\n",
       "      <th>3</th>\n",
       "      <td>90.00000</td>\n",
       "      <td>206</td>\n",
       "      <td>6.171360</td>\n",
       "    </tr>\n",
       "    <tr>\n",
       "      <th>4</th>\n",
       "      <td>95.00000</td>\n",
       "      <td>317</td>\n",
       "      <td>9.496705</td>\n",
       "    </tr>\n",
       "    <tr>\n",
       "      <th>5</th>\n",
       "      <td>99.00000</td>\n",
       "      <td>649</td>\n",
       "      <td>19.442780</td>\n",
       "    </tr>\n",
       "    <tr>\n",
       "      <th>6</th>\n",
       "      <td>99.90000</td>\n",
       "      <td>1269</td>\n",
       "      <td>38.016777</td>\n",
       "    </tr>\n",
       "    <tr>\n",
       "      <th>7</th>\n",
       "      <td>99.99000</td>\n",
       "      <td>2053</td>\n",
       "      <td>61.503895</td>\n",
       "    </tr>\n",
       "    <tr>\n",
       "      <th>8</th>\n",
       "      <td>99.99900</td>\n",
       "      <td>2861</td>\n",
       "      <td>85.710006</td>\n",
       "    </tr>\n",
       "    <tr>\n",
       "      <th>9</th>\n",
       "      <td>99.99990</td>\n",
       "      <td>3287</td>\n",
       "      <td>98.472139</td>\n",
       "    </tr>\n",
       "    <tr>\n",
       "      <th>10</th>\n",
       "      <td>99.99999</td>\n",
       "      <td>3332</td>\n",
       "      <td>99.820252</td>\n",
       "    </tr>\n",
       "  </tbody>\n",
       "</table>\n",
       "</div>"
      ],
      "text/plain": [
       "    Primes Coverage (%)  Required Deltas Quantity  Required Deltas (%)\n",
       "0              25.00000                         8             0.239664\n",
       "1              50.00000                        30             0.898742\n",
       "2              75.00000                        89             2.666267\n",
       "3              90.00000                       206             6.171360\n",
       "4              95.00000                       317             9.496705\n",
       "5              99.00000                       649            19.442780\n",
       "6              99.90000                      1269            38.016777\n",
       "7              99.99000                      2053            61.503895\n",
       "8              99.99900                      2861            85.710006\n",
       "9              99.99990                      3287            98.472139\n",
       "10             99.99999                      3332            99.820252"
      ]
     },
     "execution_count": 6,
     "metadata": {},
     "output_type": "execute_result"
    }
   ],
   "source": [
    "data_df = pd.DataFrame(data)\n",
    "data_df"
   ]
  },
  {
   "cell_type": "code",
   "execution_count": 7,
   "id": "db9b02d5-ca14-4b62-be8b-d0bf2f23abdb",
   "metadata": {},
   "outputs": [
    {
     "data": {
      "text/plain": [
       "[<matplotlib.lines.Line2D at 0x7ff0a9cf09a0>]"
      ]
     },
     "execution_count": 7,
     "metadata": {},
     "output_type": "execute_result"
    },
    {
     "data": {
      "image/png": "[encoded data removed]",
      "text/plain": [
       "<Figure size 432x288 with 1 Axes>"
      ]
     },
     "metadata": {
      "needs_background": "light"
     },
     "output_type": "display_data"
    }
   ],
   "source": [
    "plt.plot(data_df['Primes Coverage (%)'], data_df['Required Deltas (%)'])"
   ]
  },
  {
   "cell_type": "code",
   "execution_count": null,
   "id": "97e9d98c-5885-4507-970d-e98f354fe9bd",
   "metadata": {},
   "outputs": [],
   "source": []
  }
 ],
 "metadata": {
  "kernelspec": {
   "display_name": "Python 3",
   "language": "python",
   "name": "python3"
  },
  "language_info": {
   "codemirror_mode": {
    "name": "ipython",
    "version": 3
   },
   "file_extension": ".py",
   "mimetype": "text/x-python",
   "name": "python",
   "nbconvert_exporter": "python",
   "pygments_lexer": "ipython3",
   "version": "3.9.1"
  }
 },
 "nbformat": 4,
 "nbformat_minor": 5
}
