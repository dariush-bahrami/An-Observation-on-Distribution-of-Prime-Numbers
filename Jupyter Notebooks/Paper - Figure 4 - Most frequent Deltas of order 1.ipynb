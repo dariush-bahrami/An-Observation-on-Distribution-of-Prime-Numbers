{
 "cells": [
  {
   "cell_type": "code",
   "execution_count": 12,
   "id": "b2b9721b-013e-4045-9420-e2a8b3f4487f",
   "metadata": {},
   "outputs": [],
   "source": [
    "from pathlib import Path\n",
    "import pandas as pd\n",
    "from matplotlib import pyplot as plt"
   ]
  },
  {
   "cell_type": "code",
   "execution_count": 13,
   "id": "abfad7c0-ba23-42ac-a043-fa9c19532663",
   "metadata": {},
   "outputs": [],
   "source": [
    "data_dir = Path('data')\n",
    "delta_frequency_path = Path.joinpath(data_dir, Path('delta_frequency_under_1b.csv'))"
   ]
  },
  {
   "cell_type": "code",
   "execution_count": 14,
   "id": "906271ec-9c82-458a-bda0-d960d9080dd2",
   "metadata": {},
   "outputs": [
    {
     "data": {
      "text/html": [
       "<div>\n",
       "<style scoped>\n",
       "    .dataframe tbody tr th:only-of-type {\n",
       "        vertical-align: middle;\n",
       "    }\n",
       "\n",
       "    .dataframe tbody tr th {\n",
       "        vertical-align: top;\n",
       "    }\n",
       "\n",
       "    .dataframe thead th {\n",
       "        text-align: right;\n",
       "    }\n",
       "</style>\n",
       "<table border=\"1\" class=\"dataframe\">\n",
       "  <thead>\n",
       "    <tr style=\"text-align: right;\">\n",
       "      <th></th>\n",
       "      <th>delta</th>\n",
       "      <th>delta_log2</th>\n",
       "      <th>frequency</th>\n",
       "      <th>density</th>\n",
       "    </tr>\n",
       "  </thead>\n",
       "  <tbody>\n",
       "    <tr>\n",
       "      <th>0</th>\n",
       "      <td>2</td>\n",
       "      <td>1.000000</td>\n",
       "      <td>2047829</td>\n",
       "      <td>0.040274</td>\n",
       "    </tr>\n",
       "    <tr>\n",
       "      <th>1</th>\n",
       "      <td>1/2</td>\n",
       "      <td>-1.000000</td>\n",
       "      <td>2046288</td>\n",
       "      <td>0.040244</td>\n",
       "    </tr>\n",
       "    <tr>\n",
       "      <th>2</th>\n",
       "      <td>3/2</td>\n",
       "      <td>0.584963</td>\n",
       "      <td>1460663</td>\n",
       "      <td>0.028726</td>\n",
       "    </tr>\n",
       "    <tr>\n",
       "      <th>3</th>\n",
       "      <td>2/3</td>\n",
       "      <td>-0.584963</td>\n",
       "      <td>1460572</td>\n",
       "      <td>0.028725</td>\n",
       "    </tr>\n",
       "  </tbody>\n",
       "</table>\n",
       "</div>"
      ],
      "text/plain": [
       "  delta  delta_log2  frequency   density\n",
       "0     2    1.000000    2047829  0.040274\n",
       "1   1/2   -1.000000    2046288  0.040244\n",
       "2   3/2    0.584963    1460663  0.028726\n",
       "3   2/3   -0.584963    1460572  0.028725"
      ]
     },
     "execution_count": 14,
     "metadata": {},
     "output_type": "execute_result"
    }
   ],
   "source": [
    "df = pd.read_csv(delta_frequency_path)\n",
    "df.head(4)"
   ]
  },
  {
   "cell_type": "code",
   "execution_count": 15,
   "id": "04ed5d8f-b765-4dae-ad3e-a742bd7aa566",
   "metadata": {},
   "outputs": [],
   "source": [
    "data = {}\n",
    "total_primes = df['frequency'].sum()\n",
    "top_nums = 15\n",
    "for i in range(top_nums):\n",
    "    row = df.iloc[i]\n",
    "    data[row['delta']] = row['frequency']*100"
   ]
  },
  {
   "cell_type": "code",
   "execution_count": 16,
   "id": "8fea7cfc-cd4c-42ec-ab72-385159afcf1b",
   "metadata": {
    "tags": []
   },
   "outputs": [
    {
     "data": {
      "image/png": "[encoded data removed]",
      "text/plain": [
       "<Figure size 576x360 with 1 Axes>"
      ]
     },
     "metadata": {
      "needs_background": "light"
     },
     "output_type": "display_data"
    }
   ],
   "source": [
    "figsize = (8, 5)\n",
    "barplot_configs = {'color': 'seagreen',\n",
    "                   'edgecolor':'black'}\n",
    "fig, ax = plt.subplots()\n",
    "fig.set_size_inches(*figsize)\n",
    "ax.bar(data.keys(), data.values(), **barplot_configs)\n",
    "ax.set_title('Most Frequent $\\delta^1$ for Primes Below 1 Billion')\n",
    "ax.set_xlabel('$\\delta^1$')\n",
    "ax.set_ylabel('Quantity')\n",
    "plt.show()"
   ]
  },
  {
   "cell_type": "code",
   "execution_count": null,
   "id": "e25832f4-cfc4-454d-9d33-2ce5d55d8414",
   "metadata": {},
   "outputs": [],
   "source": []
  }
 ],
 "metadata": {
  "kernelspec": {
   "display_name": "Python 3",
   "language": "python",
   "name": "python3"
  },
  "language_info": {
   "codemirror_mode": {
    "name": "ipython",
    "version": 3
   },
   "file_extension": ".py",
   "mimetype": "text/x-python",
   "name": "python",
   "nbconvert_exporter": "python",
   "pygments_lexer": "ipython3",
   "version": "3.9.1"
  }
 },
 "nbformat": 4,
 "nbformat_minor": 5
}
