{
 "cells": [
  {
   "cell_type": "markdown",
   "id": "af555dfc-bd92-4abf-baf8-812527db5386",
   "metadata": {},
   "source": [
    "[![Open In Colab](https://colab.research.google.com/assets/colab-badge.svg)](https://colab.research.google.com/github/dariush-bahrami/An-Observation-on-Distribution-of-Prime-Numbers/blob/master/Jupyter%20Notebooks/Paper%20-%20Table%201%20-%20Examples%20of%20Delta.ipynb)"
   ]
  },
  {
   "cell_type": "code",
   "execution_count": 1,
   "id": "a20176cc-cb71-402d-8ef2-a7b91f759228",
   "metadata": {},
   "outputs": [],
   "source": [
    "from fractions import Fraction\n",
    "import numpy as np\n",
    "from numba import jit, uint64"
   ]
  },
  {
   "cell_type": "code",
   "execution_count": 2,
   "id": "12b75be2-5122-49d2-a364-8cb8dee4cb7e",
   "metadata": {},
   "outputs": [],
   "source": [
    "@jit(uint64[:](uint64), nopython=True, cache=True)\n",
    "def eratosthenes_sieve(stop: int):\n",
    "    numbers = np.arange(2, stop, dtype=np.uint64)\n",
    "    for n in numbers:\n",
    "        if n != 0:\n",
    "            i = 2\n",
    "            while i*n-2 < stop-1:          \n",
    "                numbers[i*n-2] = 0\n",
    "                i += 1\n",
    "        else:\n",
    "            continue\n",
    "    primes = numbers[numbers != 0]\n",
    "    return primes"
   ]
  },
  {
   "cell_type": "markdown",
   "id": "cba9bb15-eab0-4669-bf49-a337f2ac5933",
   "metadata": {},
   "source": [
    "By using `eratosthenes_sieve` generate atleast 18 primes. To generate 18 primes set the `stop` argument of `eratosthenes_sieve` to `62`"
   ]
  },
  {
   "cell_type": "code",
   "execution_count": 3,
   "id": "397b2f47-4f69-4219-943b-9f8e1b21961b",
   "metadata": {},
   "outputs": [
    {
     "name": "stdout",
     "output_type": "stream",
     "text": [
      "Number of generated primes: 18\n"
     ]
    },
    {
     "data": {
      "text/plain": [
       "array([ 2,  3,  5,  7, 11, 13, 17, 19, 23, 29, 31, 37, 41, 43, 47, 53, 59,\n",
       "       61], dtype=uint64)"
      ]
     },
     "execution_count": 3,
     "metadata": {},
     "output_type": "execute_result"
    }
   ],
   "source": [
    "primes = eratosthenes_sieve(62)\n",
    "print(f'Number of generated primes: {primes.size}')\n",
    "primes"
   ]
  },
  {
   "cell_type": "code",
   "execution_count": 4,
   "id": "05d6ab9a-110e-4031-896b-473f1f087698",
   "metadata": {},
   "outputs": [],
   "source": [
    "def get_delta_sequences(primes: np.ndarray) -> dict:\n",
    "    \"\"\"primes should start with number \"2\" and has atleast 3 elements.\"\"\"\n",
    "    data = {}\n",
    "    max_order = 1\n",
    "    last_index = primes.size//2 + 1*(primes.size%2!=0)\n",
    "    for i in range(1, last_index):\n",
    "        data[primes[i]] = []\n",
    "        for o in range(1, max_order+1):\n",
    "            num = primes[i+o].item() - primes[i].item()\n",
    "            den = primes[i].item() - primes[i-o].item()\n",
    "            data[primes[i]].append(str(Fraction(num, den)))\n",
    "        max_order += 1\n",
    "    return data"
   ]
  },
  {
   "cell_type": "markdown",
   "id": "5afb12c7-50ec-4b2b-a189-04a18ef88bca",
   "metadata": {},
   "source": [
    "`get_delta_sequences` can generate sequence of deltas for each prime in `primes` array."
   ]
  },
  {
   "cell_type": "code",
   "execution_count": 5,
   "id": "01864e10-a2ba-442d-bbf6-966af0fab7c3",
   "metadata": {},
   "outputs": [
    {
     "data": {
      "text/plain": [
       "{3: ['2'],\n",
       " 5: ['1', '2'],\n",
       " 7: ['2', '3/2', '2'],\n",
       " 11: ['1/2', '1', '1', '4/3'],\n",
       " 13: ['2', '1', '5/4', '8/5', '18/11'],\n",
       " 17: ['1/2', '1', '6/5', '7/6', '10/7', '8/5'],\n",
       " 19: ['2', '5/3', '3/2', '3/2', '11/7', '3/2', '28/17'],\n",
       " 23: ['3/2', '4/3', '7/5', '3/2', '5/4', '4/3', '3/2', '12/7']}"
      ]
     },
     "execution_count": 5,
     "metadata": {},
     "output_type": "execute_result"
    }
   ],
   "source": [
    "get_delta_sequences(primes)"
   ]
  }
 ],
 "metadata": {
  "kernelspec": {
   "display_name": "Python 3",
   "language": "python",
   "name": "python3"
  },
  "language_info": {
   "codemirror_mode": {
    "name": "ipython",
    "version": 3
   },
   "file_extension": ".py",
   "mimetype": "text/x-python",
   "name": "python",
   "nbconvert_exporter": "python",
   "pygments_lexer": "ipython3",
   "version": "3.9.1"
  }
 },
 "nbformat": 4,
 "nbformat_minor": 5
}
