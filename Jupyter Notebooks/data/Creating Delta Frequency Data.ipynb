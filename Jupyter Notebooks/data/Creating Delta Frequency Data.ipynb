{
  "nbformat": 4,
  "nbformat_minor": 5,
  "metadata": {
    "kernelspec": {
      "display_name": "Python 3",
      "language": "python",
      "name": "python3"
    },
    "language_info": {
      "codemirror_mode": {
        "name": "ipython",
        "version": 3
      },
      "file_extension": ".py",
      "mimetype": "text/x-python",
      "name": "python",
      "nbconvert_exporter": "python",
      "pygments_lexer": "ipython3",
      "version": "3.9.1"
    },
    "colab": {
      "name": "Creating Delta Frequency Data.ipynb",
      "provenance": []
    }
  },
  "cells": [
    {
      "cell_type": "markdown",
      "metadata": {
        "id": "eaa78ed1-0c98-47f5-8161-fa5153c57e2d"
      },
      "source": [
        "# Creating Delta Frequency Data\n",
        "Some of the figures and tables in the article are related to the \"delta_frequency_under_1b.csv\" file. In this notebook, the codes required to reproduce this file are written."
      ],
      "id": "eaa78ed1-0c98-47f5-8161-fa5153c57e2d"
    },
    {
      "cell_type": "code",
      "metadata": {
        "id": "68124ff4-6241-4346-8019-0c1a516ffa91"
      },
      "source": [
        "import sys\n",
        "from pathlib import Path\n",
        "from fractions import Fraction\n",
        "import numpy as np\n",
        "import pandas as pd\n",
        "from numba import jit, uint64"
      ],
      "id": "68124ff4-6241-4346-8019-0c1a516ffa91",
      "execution_count": 1,
      "outputs": []
    },
    {
      "cell_type": "markdown",
      "metadata": {
        "id": "44dfdb19-44ab-4e29-a578-d563d10180a2"
      },
      "source": [
        "First of all, we need some prime number; For this purpuse I defined eratosthenes_sieve as follow:"
      ],
      "id": "44dfdb19-44ab-4e29-a578-d563d10180a2"
    },
    {
      "cell_type": "code",
      "metadata": {
        "id": "1f6ab787-a823-4735-8134-ffde24b795c0"
      },
      "source": [
        "@jit(uint64[:](uint64), nopython=True, cache=True)\n",
        "def eratosthenes_sieve(stop: int):\n",
        "    numbers = np.arange(2, stop, dtype=np.uint64)\n",
        "    for n in numbers:\n",
        "        if n != 0:\n",
        "            i = 2\n",
        "            while i*n-2 < stop-1:          \n",
        "                numbers[i*n-2] = 0\n",
        "                i += 1\n",
        "        else:\n",
        "            continue\n",
        "    primes = numbers[numbers != 0]\n",
        "    return primes"
      ],
      "id": "1f6ab787-a823-4735-8134-ffde24b795c0",
      "execution_count": 2,
      "outputs": []
    },
    {
      "cell_type": "markdown",
      "metadata": {
        "id": "09e71552-4a61-48eb-b3ba-a5515547ac6e"
      },
      "source": [
        "Set `maxnumber` to a any number you want; Pass this variable to `eratosthenes_sieve` function as `stop` argument and this function will produce all primes up to `maxnumber`."
      ],
      "id": "09e71552-4a61-48eb-b3ba-a5515547ac6e"
    },
    {
      "cell_type": "code",
      "metadata": {
        "colab": {
          "base_uri": "https://localhost:8080/"
        },
        "id": "3a7150c6-929c-432b-8db9-107e25cfcd21",
        "outputId": "20090b96-e099-4f3e-d508-a25c00ee106d"
      },
      "source": [
        "maxnumber = 10000\n",
        "primes = eratosthenes_sieve(maxnumber)\n",
        "print(f'Number of produced primes: {len(primes)}')"
      ],
      "id": "3a7150c6-929c-432b-8db9-107e25cfcd21",
      "execution_count": 3,
      "outputs": [
        {
          "output_type": "stream",
          "text": [
            "Number of produced primes: 1229\n"
          ],
          "name": "stdout"
        }
      ]
    },
    {
      "cell_type": "markdown",
      "metadata": {
        "id": "2bc9df77-dc5f-4a48-b9ef-1812cb7ec9eb"
      },
      "source": [
        "By using following function we obtain the frequency of each delta as a dictionary:"
      ],
      "id": "2bc9df77-dc5f-4a48-b9ef-1812cb7ec9eb"
    },
    {
      "cell_type": "code",
      "metadata": {
        "id": "dc3c6c82-e015-400b-bb6a-1161d7c212b1"
      },
      "source": [
        "def get_delta_frequency(primes, order):\n",
        "    last_index = primes.size - 1\n",
        "    max_order = last_index//2\n",
        "    if 2*order > last_index:\n",
        "        raise ValueError(f'Maximum allowable order is {max_order}')\n",
        "    delta_table = {}\n",
        "    i = 0\n",
        "    while i+2*order <= last_index:\n",
        "        p1, p2, p3 = primes[i], primes[i+order], primes[i+2*order]\n",
        "        delta = str(Fraction(p3.item()-p2.item(), p2.item()-p1.item()))\n",
        "        if delta in delta_table:\n",
        "            delta_table[delta] += 1\n",
        "        else:\n",
        "            delta_table[delta] = 1\n",
        "        i += 1\n",
        "    return delta_table"
      ],
      "id": "dc3c6c82-e015-400b-bb6a-1161d7c212b1",
      "execution_count": 4,
      "outputs": []
    },
    {
      "cell_type": "code",
      "metadata": {
        "id": "cdba1f5e-5ac1-43a5-81fe-39f3b0b4bed6"
      },
      "source": [
        "delta_table = get_delta_frequency(primes, 1)"
      ],
      "id": "cdba1f5e-5ac1-43a5-81fe-39f3b0b4bed6",
      "execution_count": 5,
      "outputs": []
    },
    {
      "cell_type": "markdown",
      "metadata": {
        "id": "cc53e160-1826-4935-acd7-30de68de254b"
      },
      "source": [
        "Now calculate other required data using `get_delta_frequency_dataframe` and get results as pandas `DataFrame`"
      ],
      "id": "cc53e160-1826-4935-acd7-30de68de254b"
    },
    {
      "cell_type": "code",
      "metadata": {
        "id": "e9af466b-299a-4905-83f7-1a313466975e"
      },
      "source": [
        "def get_delta_frequency_dataframe(delta_table):\n",
        "    freq_sum = sum(delta_table.values())\n",
        "    data = {'delta': list(delta_table.keys()),\n",
        "            'delta_log2': [np.log2(float(Fraction(i))) for i in delta_table.keys()],\n",
        "            'frequency': list(delta_table.values()),\n",
        "            'density': [i/freq_sum for i in delta_table.values()]}\n",
        "    df = pd.DataFrame(data)\n",
        "    df.sort_values(by=['frequency'], ascending=False, ignore_index=True, inplace=True)\n",
        "    df['cumulative_density'] = df['density'].cumsum()\n",
        "    return df"
      ],
      "id": "e9af466b-299a-4905-83f7-1a313466975e",
      "execution_count": 61,
      "outputs": []
    },
    {
      "cell_type": "code",
      "metadata": {
        "colab": {
          "base_uri": "https://localhost:8080/",
          "height": 419
        },
        "id": "cc7a3ead-744f-4da2-8819-fec1f7ecbd1b",
        "outputId": "ed07ed1d-d5e9-4029-f46b-f6139b2ae9d4"
      },
      "source": [
        "df = get_delta_frequency_dataframe(delta_table)\n",
        "df"
      ],
      "id": "cc7a3ead-744f-4da2-8819-fec1f7ecbd1b",
      "execution_count": 7,
      "outputs": [
        {
          "output_type": "execute_result",
          "data": {
            "text/html": [
              "<div>\n",
              "<style scoped>\n",
              "    .dataframe tbody tr th:only-of-type {\n",
              "        vertical-align: middle;\n",
              "    }\n",
              "\n",
              "    .dataframe tbody tr th {\n",
              "        vertical-align: top;\n",
              "    }\n",
              "\n",
              "    .dataframe thead th {\n",
              "        text-align: right;\n",
              "    }\n",
              "</style>\n",
              "<table border=\"1\" class=\"dataframe\">\n",
              "  <thead>\n",
              "    <tr style=\"text-align: right;\">\n",
              "      <th></th>\n",
              "      <th>delta</th>\n",
              "      <th>delta_log2</th>\n",
              "      <th>frequency</th>\n",
              "      <th>density</th>\n",
              "      <th>cumulative_density</th>\n",
              "    </tr>\n",
              "  </thead>\n",
              "  <tbody>\n",
              "    <tr>\n",
              "      <th>0</th>\n",
              "      <td>2</td>\n",
              "      <td>1.000000</td>\n",
              "      <td>121</td>\n",
              "      <td>0.098615</td>\n",
              "      <td>0.098615</td>\n",
              "    </tr>\n",
              "    <tr>\n",
              "      <th>1</th>\n",
              "      <td>1</td>\n",
              "      <td>0.000000</td>\n",
              "      <td>65</td>\n",
              "      <td>0.052975</td>\n",
              "      <td>0.151589</td>\n",
              "    </tr>\n",
              "    <tr>\n",
              "      <th>2</th>\n",
              "      <td>1/2</td>\n",
              "      <td>-1.000000</td>\n",
              "      <td>116</td>\n",
              "      <td>0.094540</td>\n",
              "      <td>0.246129</td>\n",
              "    </tr>\n",
              "    <tr>\n",
              "      <th>3</th>\n",
              "      <td>3/2</td>\n",
              "      <td>0.584963</td>\n",
              "      <td>78</td>\n",
              "      <td>0.063570</td>\n",
              "      <td>0.309698</td>\n",
              "    </tr>\n",
              "    <tr>\n",
              "      <th>4</th>\n",
              "      <td>1/3</td>\n",
              "      <td>-1.584963</td>\n",
              "      <td>78</td>\n",
              "      <td>0.063570</td>\n",
              "      <td>0.373268</td>\n",
              "    </tr>\n",
              "    <tr>\n",
              "      <th>...</th>\n",
              "      <td>...</td>\n",
              "      <td>...</td>\n",
              "      <td>...</td>\n",
              "      <td>...</td>\n",
              "      <td>...</td>\n",
              "    </tr>\n",
              "    <tr>\n",
              "      <th>80</th>\n",
              "      <td>7/11</td>\n",
              "      <td>-0.652077</td>\n",
              "      <td>1</td>\n",
              "      <td>0.000815</td>\n",
              "      <td>0.996740</td>\n",
              "    </tr>\n",
              "    <tr>\n",
              "      <th>81</th>\n",
              "      <td>4</td>\n",
              "      <td>2.000000</td>\n",
              "      <td>1</td>\n",
              "      <td>0.000815</td>\n",
              "      <td>0.997555</td>\n",
              "    </tr>\n",
              "    <tr>\n",
              "      <th>82</th>\n",
              "      <td>7/12</td>\n",
              "      <td>-0.777608</td>\n",
              "      <td>1</td>\n",
              "      <td>0.000815</td>\n",
              "      <td>0.998370</td>\n",
              "    </tr>\n",
              "    <tr>\n",
              "      <th>83</th>\n",
              "      <td>6/17</td>\n",
              "      <td>-1.502500</td>\n",
              "      <td>1</td>\n",
              "      <td>0.000815</td>\n",
              "      <td>0.999185</td>\n",
              "    </tr>\n",
              "    <tr>\n",
              "      <th>84</th>\n",
              "      <td>7/18</td>\n",
              "      <td>-1.362570</td>\n",
              "      <td>1</td>\n",
              "      <td>0.000815</td>\n",
              "      <td>1.000000</td>\n",
              "    </tr>\n",
              "  </tbody>\n",
              "</table>\n",
              "<p>85 rows × 5 columns</p>\n",
              "</div>"
            ],
            "text/plain": [
              "   delta  delta_log2  frequency   density  cumulative_density\n",
              "0      2    1.000000        121  0.098615            0.098615\n",
              "1      1    0.000000         65  0.052975            0.151589\n",
              "2    1/2   -1.000000        116  0.094540            0.246129\n",
              "3    3/2    0.584963         78  0.063570            0.309698\n",
              "4    1/3   -1.584963         78  0.063570            0.373268\n",
              "..   ...         ...        ...       ...                 ...\n",
              "80  7/11   -0.652077          1  0.000815            0.996740\n",
              "81     4    2.000000          1  0.000815            0.997555\n",
              "82  7/12   -0.777608          1  0.000815            0.998370\n",
              "83  6/17   -1.502500          1  0.000815            0.999185\n",
              "84  7/18   -1.362570          1  0.000815            1.000000\n",
              "\n",
              "[85 rows x 5 columns]"
            ]
          },
          "metadata": {
            "tags": []
          },
          "execution_count": 7
        }
      ]
    },
    {
      "cell_type": "markdown",
      "metadata": {
        "id": "26b9752d-65f5-405a-b010-da62fdbc0d74"
      },
      "source": [
        "# Validate `delta_frequency_under_1b.csv`"
      ],
      "id": "26b9752d-65f5-405a-b010-da62fdbc0d74"
    },
    {
      "cell_type": "markdown",
      "metadata": {
        "id": "def8a8d3-26bb-428e-8931-276e46d307ea"
      },
      "source": [
        "Now lets compare results from this functions to the data in `'delta_frequency_under_1b.csv'`"
      ],
      "id": "def8a8d3-26bb-428e-8931-276e46d307ea"
    },
    {
      "cell_type": "code",
      "metadata": {
        "colab": {
          "base_uri": "https://localhost:8080/",
          "height": 359
        },
        "id": "aaccacd1-6428-4f5a-a9de-0e48cec963e4",
        "outputId": "5feab803-0bd4-47b6-b391-23348b00a52e"
      },
      "source": [
        "delta_frequency_path = Path('delta_frequency_under_1b.csv')\n",
        "try:\n",
        "    file_df = pd.read_csv(delta_frequency_path)\n",
        "except FileNotFoundError as error:\n",
        "        print(error)\n",
        "        in_colab = 'google.colab' in sys.modules\n",
        "        if in_colab:\n",
        "            print('running on colab, downloading data to session...')\n",
        "            # Download delta_frequency_under_1b.csv\n",
        "            !wget https://bit.ly/3zcycOz -O delta_frequency_under_1b.csv\n",
        "            file_df = pd.read_csv(delta_frequency_path)\n",
        "        else:\n",
        "            print('Please download required data from paper repo')\n",
        "file_df.head(10)"
      ],
      "id": "aaccacd1-6428-4f5a-a9de-0e48cec963e4",
      "execution_count": 9,
      "outputs": [
        {
          "output_type": "execute_result",
          "data": {
            "text/html": [
              "<div>\n",
              "<style scoped>\n",
              "    .dataframe tbody tr th:only-of-type {\n",
              "        vertical-align: middle;\n",
              "    }\n",
              "\n",
              "    .dataframe tbody tr th {\n",
              "        vertical-align: top;\n",
              "    }\n",
              "\n",
              "    .dataframe thead th {\n",
              "        text-align: right;\n",
              "    }\n",
              "</style>\n",
              "<table border=\"1\" class=\"dataframe\">\n",
              "  <thead>\n",
              "    <tr style=\"text-align: right;\">\n",
              "      <th></th>\n",
              "      <th>delta</th>\n",
              "      <th>delta_log2</th>\n",
              "      <th>frequency</th>\n",
              "      <th>density</th>\n",
              "      <th>cumulative_density</th>\n",
              "    </tr>\n",
              "  </thead>\n",
              "  <tbody>\n",
              "    <tr>\n",
              "      <th>0</th>\n",
              "      <td>2</td>\n",
              "      <td>1.000000</td>\n",
              "      <td>2047829</td>\n",
              "      <td>0.040274</td>\n",
              "      <td>0.040274</td>\n",
              "    </tr>\n",
              "    <tr>\n",
              "      <th>1</th>\n",
              "      <td>1/2</td>\n",
              "      <td>-1.000000</td>\n",
              "      <td>2046288</td>\n",
              "      <td>0.040244</td>\n",
              "      <td>0.080518</td>\n",
              "    </tr>\n",
              "    <tr>\n",
              "      <th>2</th>\n",
              "      <td>3/2</td>\n",
              "      <td>0.584963</td>\n",
              "      <td>1460663</td>\n",
              "      <td>0.028726</td>\n",
              "      <td>0.109244</td>\n",
              "    </tr>\n",
              "    <tr>\n",
              "      <th>3</th>\n",
              "      <td>2/3</td>\n",
              "      <td>-0.584963</td>\n",
              "      <td>1460572</td>\n",
              "      <td>0.028725</td>\n",
              "      <td>0.137968</td>\n",
              "    </tr>\n",
              "    <tr>\n",
              "      <th>4</th>\n",
              "      <td>1/3</td>\n",
              "      <td>-1.584963</td>\n",
              "      <td>1384018</td>\n",
              "      <td>0.027219</td>\n",
              "      <td>0.165187</td>\n",
              "    </tr>\n",
              "    <tr>\n",
              "      <th>5</th>\n",
              "      <td>3</td>\n",
              "      <td>1.584963</td>\n",
              "      <td>1382907</td>\n",
              "      <td>0.027197</td>\n",
              "      <td>0.192384</td>\n",
              "    </tr>\n",
              "    <tr>\n",
              "      <th>6</th>\n",
              "      <td>1</td>\n",
              "      <td>0.000000</td>\n",
              "      <td>1328401</td>\n",
              "      <td>0.026125</td>\n",
              "      <td>0.218510</td>\n",
              "    </tr>\n",
              "    <tr>\n",
              "      <th>7</th>\n",
              "      <td>5</td>\n",
              "      <td>2.321928</td>\n",
              "      <td>1117019</td>\n",
              "      <td>0.021968</td>\n",
              "      <td>0.240478</td>\n",
              "    </tr>\n",
              "    <tr>\n",
              "      <th>8</th>\n",
              "      <td>1/5</td>\n",
              "      <td>-2.321928</td>\n",
              "      <td>1116795</td>\n",
              "      <td>0.021964</td>\n",
              "      <td>0.262441</td>\n",
              "    </tr>\n",
              "    <tr>\n",
              "      <th>9</th>\n",
              "      <td>3/4</td>\n",
              "      <td>-0.415037</td>\n",
              "      <td>789598</td>\n",
              "      <td>0.015529</td>\n",
              "      <td>0.277970</td>\n",
              "    </tr>\n",
              "  </tbody>\n",
              "</table>\n",
              "</div>"
            ],
            "text/plain": [
              "  delta  delta_log2  frequency   density  cumulative_density\n",
              "0     2    1.000000    2047829  0.040274            0.040274\n",
              "1   1/2   -1.000000    2046288  0.040244            0.080518\n",
              "2   3/2    0.584963    1460663  0.028726            0.109244\n",
              "3   2/3   -0.584963    1460572  0.028725            0.137968\n",
              "4   1/3   -1.584963    1384018  0.027219            0.165187\n",
              "5     3    1.584963    1382907  0.027197            0.192384\n",
              "6     1    0.000000    1328401  0.026125            0.218510\n",
              "7     5    2.321928    1117019  0.021968            0.240478\n",
              "8   1/5   -2.321928    1116795  0.021964            0.262441\n",
              "9   3/4   -0.415037     789598  0.015529            0.277970"
            ]
          },
          "metadata": {
            "tags": []
          },
          "execution_count": 9
        }
      ]
    },
    {
      "cell_type": "code",
      "metadata": {
        "colab": {
          "base_uri": "https://localhost:8080/"
        },
        "id": "9dac2586-b0a2-4548-b28c-9f9f64b1d634",
        "outputId": "1204cf29-9877-4c2d-bbe5-5580378259c0"
      },
      "source": [
        "maxnumber = 1000000000\n",
        "primes = eratosthenes_sieve(maxnumber)\n",
        "print(f'Number of produced primes: {len(primes)}')"
      ],
      "id": "9dac2586-b0a2-4548-b28c-9f9f64b1d634",
      "execution_count": 10,
      "outputs": [
        {
          "output_type": "stream",
          "text": [
            "Number of produced primes: 50847534\n"
          ],
          "name": "stdout"
        }
      ]
    },
    {
      "cell_type": "code",
      "metadata": {
        "id": "da9cfceb-711b-4791-af5d-ae0e0afbccff"
      },
      "source": [
        "delta_table = get_delta_frequency(primes, 1)"
      ],
      "id": "da9cfceb-711b-4791-af5d-ae0e0afbccff",
      "execution_count": 11,
      "outputs": []
    },
    {
      "cell_type": "code",
      "metadata": {
        "id": "ab1b1179-4f89-4ebf-b1ee-a12ef81693d1"
      },
      "source": [
        "generated_df = get_delta_frequency_dataframe(delta_table)"
      ],
      "id": "ab1b1179-4f89-4ebf-b1ee-a12ef81693d1",
      "execution_count": 63,
      "outputs": []
    },
    {
      "cell_type": "markdown",
      "metadata": {
        "id": "i-sRSh__3bfI"
      },
      "source": [
        "`delta` and `frequency` column validation is easy. so lets first validate those columns:"
      ],
      "id": "i-sRSh__3bfI"
    },
    {
      "cell_type": "code",
      "metadata": {
        "colab": {
          "base_uri": "https://localhost:8080/"
        },
        "id": "iueF142W0AXO",
        "outputId": "d30dd477-0e20-46db-97b6-92cceaa349c4"
      },
      "source": [
        "if (file_df['delta'] == generated_df['delta']).all():\n",
        "    print('delta column IS VALID')\n",
        "else:\n",
        "    print('delta column IS NOT VALID')\n",
        "\n",
        "if (file_df['frequency'] == generated_df['frequency']).all():\n",
        "    print('frequency column IS VALID')\n",
        "else:\n",
        "    print('frequency column IS NOT VALID')"
      ],
      "id": "iueF142W0AXO",
      "execution_count": 64,
      "outputs": [
        {
          "output_type": "stream",
          "text": [
            "delta column IS VALID\n",
            "frequency column IS VALID\n"
          ],
          "name": "stdout"
        }
      ]
    },
    {
      "cell_type": "markdown",
      "metadata": {
        "id": "zmiuM6zM3sKt"
      },
      "source": [
        "do to floating point representation, use maximum difference of the float columns to validate results:"
      ],
      "id": "zmiuM6zM3sKt"
    },
    {
      "cell_type": "code",
      "metadata": {
        "id": "1glR9dID0DbO"
      },
      "source": [
        "delta_log2_diff = (generated_df['delta_log2'] - file_df['delta_log2']).abs().max()\n",
        "density_diff = (generated_df['density'] - file_df['density']).abs().max()\n",
        "cumulative_density_diff = (generated_df['cumulative_density'] - file_df['cumulative_density']).abs().max()"
      ],
      "id": "1glR9dID0DbO",
      "execution_count": 67,
      "outputs": []
    },
    {
      "cell_type": "code",
      "metadata": {
        "colab": {
          "base_uri": "https://localhost:8080/"
        },
        "id": "ZgVgTaQu4MmA",
        "outputId": "5cd0aa0c-1f00-48d9-88ee-6f410e1d0e28"
      },
      "source": [
        "print(f'Max difference in \"delta_log2\" column: {delta_log2_diff}')\n",
        "print(f'Max difference in \"density\" column: {density_diff}')\n",
        "print(f'Max difference in \"cumulative_density\" column: {cumulative_density_diff}')\n"
      ],
      "id": "ZgVgTaQu4MmA",
      "execution_count": 68,
      "outputs": [
        {
          "output_type": "stream",
          "text": [
            "Max difference in \"delta_log2\" column: 2.6645352591003757e-15\n",
            "Max difference in \"density\" column: 9.93129189996722e-17\n",
            "Max difference in \"cumulative_density\" column: 2.5424107263916085e-14\n"
          ],
          "name": "stdout"
        }
      ]
    }
  ]
}