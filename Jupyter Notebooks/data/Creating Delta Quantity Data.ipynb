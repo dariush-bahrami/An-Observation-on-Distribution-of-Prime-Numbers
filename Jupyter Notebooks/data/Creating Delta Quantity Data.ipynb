{
  "nbformat": 4,
  "nbformat_minor": 5,
  "metadata": {
    "kernelspec": {
      "display_name": "Python 3",
      "language": "python",
      "name": "python3"
    },
    "language_info": {
      "codemirror_mode": {
        "name": "ipython",
        "version": 3
      },
      "file_extension": ".py",
      "mimetype": "text/x-python",
      "name": "python",
      "nbconvert_exporter": "python",
      "pygments_lexer": "ipython3",
      "version": "3.9.1"
    },
    "colab": {
      "name": "Creating Delta Quantity Data.ipynb",
      "provenance": []
    }
  },
  "cells": [
    {
      "cell_type": "markdown",
      "metadata": {
        "id": "7c532af7-585c-4704-bbe9-b7e2fcafcbb1"
      },
      "source": [
        "# Creating Delta Quantity Data\n",
        "Some of the figures and tables in the article are related to the \"delta_quantity_under_1b.npz\" file. In this notebook, the codes required to reproduce this file are written."
      ],
      "id": "7c532af7-585c-4704-bbe9-b7e2fcafcbb1"
    },
    {
      "cell_type": "code",
      "metadata": {
        "id": "073a2c26-0d39-440b-9475-6a3248cdc957"
      },
      "source": [
        "import sys\n",
        "from pathlib import Path\n",
        "from fractions import Fraction\n",
        "import numpy as np\n",
        "from numba import jit, uint64"
      ],
      "id": "073a2c26-0d39-440b-9475-6a3248cdc957",
      "execution_count": 1,
      "outputs": []
    },
    {
      "cell_type": "markdown",
      "metadata": {
        "id": "71830a92-76ea-4bde-9552-c6da5216bfe8"
      },
      "source": [
        "First of all, we need some prime number; For this purpuse I defined `eratosthenes_sieve` as follow:"
      ],
      "id": "71830a92-76ea-4bde-9552-c6da5216bfe8"
    },
    {
      "cell_type": "code",
      "metadata": {
        "id": "2e9e32f1-54c7-498d-918a-254ccd6324eb"
      },
      "source": [
        "@jit(uint64[:](uint64), nopython=True, cache=True)\n",
        "def eratosthenes_sieve(stop: int):\n",
        "    numbers = np.arange(2, stop, dtype=np.uint64)\n",
        "    for n in numbers:\n",
        "        if n != 0:\n",
        "            i = 2\n",
        "            while i*n-2 < stop-1:          \n",
        "                numbers[i*n-2] = 0\n",
        "                i += 1\n",
        "        else:\n",
        "            continue\n",
        "    primes = numbers[numbers != 0]\n",
        "    return primes"
      ],
      "id": "2e9e32f1-54c7-498d-918a-254ccd6324eb",
      "execution_count": 2,
      "outputs": []
    },
    {
      "cell_type": "markdown",
      "metadata": {
        "id": "84983d0a-2e94-4671-913b-dc8dc22dc07d"
      },
      "source": [
        "Set `maxnumber` to a any number you want; Pass this variable to `eratosthenes_sieve` function as `stop` argument and this function will produce all primes up to `maxnumber`."
      ],
      "id": "84983d0a-2e94-4671-913b-dc8dc22dc07d"
    },
    {
      "cell_type": "code",
      "metadata": {
        "id": "22d8fd5e-194c-4410-8f13-0151dadc85e2",
        "outputId": "639114ef-d326-4bf8-a0df-52f6812fc51b",
        "colab": {
          "base_uri": "https://localhost:8080/"
        }
      },
      "source": [
        "maxnumber = 10000\n",
        "primes = eratosthenes_sieve(maxnumber)\n",
        "print(f'Number of produced primes: {len(primes)}')"
      ],
      "id": "22d8fd5e-194c-4410-8f13-0151dadc85e2",
      "execution_count": 3,
      "outputs": [
        {
          "output_type": "stream",
          "text": [
            "Number of produced primes: 1229\n"
          ],
          "name": "stdout"
        }
      ]
    },
    {
      "cell_type": "markdown",
      "metadata": {
        "id": "943ec45d-7104-4d9d-b148-79b6ca6eff53"
      },
      "source": [
        "By using following function we obtain the quantity of deltas:"
      ],
      "id": "943ec45d-7104-4d9d-b148-79b6ca6eff53"
    },
    {
      "cell_type": "code",
      "metadata": {
        "id": "4f1bb826-6319-4aff-84f3-f857c2cc07ab"
      },
      "source": [
        "def count_deltas(primes, order):\n",
        "    last_index = primes.size - 1\n",
        "    max_order = last_index//2\n",
        "    if 2*order > last_index:\n",
        "        raise ValueError(f'Maximum allowable order is {max_order}')\n",
        "    deltas_set = set()\n",
        "    deltas_count = np.zeros((primes.size-2*order))\n",
        "    i = 0\n",
        "    while i+2*order <= last_index:\n",
        "        p1, p2, p3 = primes[i], primes[i+order], primes[i+2*order]\n",
        "        delta = str(Fraction(p3.item()-p2.item(), p2.item()-p1.item()))\n",
        "        deltas_set.add(delta)\n",
        "        deltas_count[i] = len(deltas_set)\n",
        "        i += 1\n",
        "    return deltas_count"
      ],
      "id": "4f1bb826-6319-4aff-84f3-f857c2cc07ab",
      "execution_count": 4,
      "outputs": []
    },
    {
      "cell_type": "markdown",
      "metadata": {
        "id": "f94310b7-bd5d-4d84-b960-1f982519f00b"
      },
      "source": [
        "To get quantity of a specific order of delta, use `count_deltas(primes, order)`. This function returns an array which each index of it corresponds to a prime number, and the value at that index is the quantity of specified delta up to that prime."
      ],
      "id": "f94310b7-bd5d-4d84-b960-1f982519f00b"
    },
    {
      "cell_type": "code",
      "metadata": {
        "id": "3d8f15be-add4-4770-b056-0413a9209c16",
        "outputId": "83eab6df-78f9-4afe-9131-283eb4eecb28",
        "colab": {
          "base_uri": "https://localhost:8080/"
        }
      },
      "source": [
        "delta_quantity_order_1 = count_deltas(primes, 1)\n",
        "delta_quantity_order_1"
      ],
      "id": "3d8f15be-add4-4770-b056-0413a9209c16",
      "execution_count": 5,
      "outputs": [
        {
          "output_type": "execute_result",
          "data": {
            "text/plain": [
              "array([ 1.,  2.,  2., ..., 85., 85., 85.])"
            ]
          },
          "metadata": {
            "tags": []
          },
          "execution_count": 5
        }
      ]
    },
    {
      "cell_type": "markdown",
      "metadata": {
        "id": "792734a1-a474-48a6-8e8c-d588158c1f87"
      },
      "source": [
        "## Validate `delta_quantity_under_1b.npz`"
      ],
      "id": "792734a1-a474-48a6-8e8c-d588158c1f87"
    },
    {
      "cell_type": "markdown",
      "metadata": {
        "id": "2066710c-6880-4982-8e89-cad2753abd85"
      },
      "source": [
        "Now lets compare results from this function to the data in `'delta_quantity_under_1b.npz'` First lets examine this file. This file is a collection of arrays. Each array contains delta quantity for a specific order."
      ],
      "id": "2066710c-6880-4982-8e89-cad2753abd85"
    },
    {
      "cell_type": "code",
      "metadata": {
        "id": "caa16130-f9c8-42e0-9b55-0d45244060f9",
        "outputId": "288d1a0a-d4fc-4ae9-ca2f-e911d9e8d6cf",
        "colab": {
          "base_uri": "https://localhost:8080/"
        }
      },
      "source": [
        "delta_quantity_path = Path('delta_quantity_under_1b.npz')\n",
        "try:\n",
        "    delta_quantity = np.load(delta_quantity_path)\n",
        "except FileNotFoundError as error:\n",
        "        print(error)\n",
        "        in_colab = 'google.colab' in sys.modules\n",
        "        if in_colab:\n",
        "            print('running on colab, downloading data to session...')\n",
        "            # Download delta_quantity_under_1b.npz\n",
        "            !wget https://bit.ly/3fZDjtY -O delta_quantity_under_1b.npz\n",
        "            delta_quantity = np.load(delta_quantity_path)\n",
        "        else:\n",
        "            print('Please download required data from paper repo')\n",
        "list(delta_quantity.keys())"
      ],
      "id": "caa16130-f9c8-42e0-9b55-0d45244060f9",
      "execution_count": 7,
      "outputs": [
        {
          "output_type": "execute_result",
          "data": {
            "text/plain": [
              "['order_1', 'order_10', 'order_100', 'order_1000']"
            ]
          },
          "metadata": {
            "tags": []
          },
          "execution_count": 7
        }
      ]
    },
    {
      "cell_type": "markdown",
      "metadata": {
        "id": "0755d0ca-5912-4f73-bcda-0e00a082182f"
      },
      "source": [
        "First generate all primes up to 1 bilion:"
      ],
      "id": "0755d0ca-5912-4f73-bcda-0e00a082182f"
    },
    {
      "cell_type": "code",
      "metadata": {
        "id": "559cc65f-b794-41b3-898f-315b50148221",
        "outputId": "5bfaf29e-99db-460e-cf48-b969fce00b1b",
        "colab": {
          "base_uri": "https://localhost:8080/"
        }
      },
      "source": [
        "maxnumber = 1000000000\n",
        "primes = eratosthenes_sieve(maxnumber)\n",
        "print(f'Number of produced primes: {len(primes)}')"
      ],
      "id": "559cc65f-b794-41b3-898f-315b50148221",
      "execution_count": 8,
      "outputs": [
        {
          "output_type": "stream",
          "text": [
            "Number of produced primes: 50847534\n"
          ],
          "name": "stdout"
        }
      ]
    },
    {
      "cell_type": "markdown",
      "metadata": {
        "id": "487b7a1c-71ba-48cf-b079-81fa295cf137"
      },
      "source": [
        "Now produce delta quantity arrays; Specify order and check for validity of `delta_quantity_under_1b.npz`"
      ],
      "id": "487b7a1c-71ba-48cf-b079-81fa295cf137"
    },
    {
      "cell_type": "code",
      "metadata": {
        "id": "00d97fa2-e15e-47c2-99a2-17859adaa705",
        "outputId": "08a38e1d-c4c7-4180-f81e-2b4c6dbd6e54",
        "colab": {
          "base_uri": "https://localhost:8080/"
        }
      },
      "source": [
        "order = 1000 # Order should be 1, 10, 100 or 1000\n",
        "delta_quantity_in_file = delta_quantity[f'order_{order}']\n",
        "produced_delta_quantity = count_deltas(primes, order)\n",
        "comparison = delta_quantity_in_file == produced_delta_quantity\n",
        "if comparison.all():\n",
        "    print(f'delta_quantity_under_1b.npz for order {order} is VALID')\n",
        "else:\n",
        "    print(f'delta_quantity_under_1b.npz for order {order} is NOT VALID')"
      ],
      "id": "00d97fa2-e15e-47c2-99a2-17859adaa705",
      "execution_count": 20,
      "outputs": [
        {
          "output_type": "stream",
          "text": [
            "delta_quantity_under_1b.npz for order 1000 is VALID\n"
          ],
          "name": "stdout"
        }
      ]
    },
    {
      "cell_type": "code",
      "metadata": {
        "id": "eBmwMDHuMxlS"
      },
      "source": [
        ""
      ],
      "id": "eBmwMDHuMxlS",
      "execution_count": 13,
      "outputs": []
    }
  ]
}