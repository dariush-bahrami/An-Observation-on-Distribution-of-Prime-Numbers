{
 "cells": [
  {
   "cell_type": "markdown",
   "id": "7c532af7-585c-4704-bbe9-b7e2fcafcbb1",
   "metadata": {},
   "source": [
    "# Creating Delta Quantity Data\n",
    "Some of the figures and tables in the article are related to the \"delta_quantity_under_1b.npz\" file. In this notebook, the codes required to reproduce this file are written."
   ]
  },
  {
   "cell_type": "code",
   "execution_count": 1,
   "id": "073a2c26-0d39-440b-9475-6a3248cdc957",
   "metadata": {},
   "outputs": [],
   "source": [
    "from pathlib import Path\n",
    "from fractions import Fraction\n",
    "import numpy as np\n",
    "from numba import jit, uint64"
   ]
  },
  {
   "cell_type": "markdown",
   "id": "71830a92-76ea-4bde-9552-c6da5216bfe8",
   "metadata": {},
   "source": [
    "First of all, we need some prime number; For this purpuse I defined `eratosthenes_sieve` as follow:"
   ]
  },
  {
   "cell_type": "code",
   "execution_count": 3,
   "id": "2e9e32f1-54c7-498d-918a-254ccd6324eb",
   "metadata": {},
   "outputs": [],
   "source": [
    "@jit(uint64[:](uint64), nopython=True, cache=True)\n",
    "def eratosthenes_sieve(stop: int):\n",
    "    numbers = np.arange(2, stop, dtype=np.uint64)\n",
    "    for n in numbers:\n",
    "        if n != 0:\n",
    "            i = 2\n",
    "            while i*n-2 < stop-1:          \n",
    "                numbers[i*n-2] = 0\n",
    "                i += 1\n",
    "        else:\n",
    "            continue\n",
    "    primes = numbers[numbers != 0]\n",
    "    return primes"
   ]
  },
  {
   "cell_type": "markdown",
   "id": "84983d0a-2e94-4671-913b-dc8dc22dc07d",
   "metadata": {},
   "source": [
    "Set `maxnumber` to a any number you want; Pass this variable to `eratosthenes_sieve` function as `stop` argument and this function will produce all primes up to `maxnumber`."
   ]
  },
  {
   "cell_type": "code",
   "execution_count": 4,
   "id": "22d8fd5e-194c-4410-8f13-0151dadc85e2",
   "metadata": {},
   "outputs": [
    {
     "name": "stdout",
     "output_type": "stream",
     "text": [
      "Number of produced primes: 1229\n"
     ]
    }
   ],
   "source": [
    "maxnumber = 10000\n",
    "primes = eratosthenes_sieve(maxnumber)\n",
    "print(f'Number of produced primes: {len(primes)}')"
   ]
  },
  {
   "cell_type": "markdown",
   "id": "943ec45d-7104-4d9d-b148-79b6ca6eff53",
   "metadata": {},
   "source": [
    "By using following function we obtain the quantity of deltas:"
   ]
  },
  {
   "cell_type": "code",
   "execution_count": 5,
   "id": "4f1bb826-6319-4aff-84f3-f857c2cc07ab",
   "metadata": {},
   "outputs": [],
   "source": [
    "def count_deltas(primes, order):\n",
    "    last_index = primes.size - 1\n",
    "    max_order = last_index//2\n",
    "    if 2*order > last_index:\n",
    "        raise ValueError(f'Maximum allowable order is {max_order}')\n",
    "    deltas_set = set()\n",
    "    deltas_count = np.zeros((primes.size-2*order))\n",
    "    i = 0\n",
    "    while i+2*order <= last_index:\n",
    "        p1, p2, p3 = primes[i], primes[i+order], primes[i+2*order]\n",
    "        delta = str(Fraction(p3.item()-p2.item(), p2.item()-p1.item()))\n",
    "        deltas_set.add(delta)\n",
    "        deltas_count[i] = len(deltas_set)\n",
    "        i += 1\n",
    "    return deltas_count"
   ]
  },
  {
   "cell_type": "markdown",
   "id": "f94310b7-bd5d-4d84-b960-1f982519f00b",
   "metadata": {},
   "source": [
    "To get quantity of a specific order of delta, use `count_deltas(primes, order)`. This function returns an array which each index of it corresponds to a prime number, and the value at that index is the quantity of specified delta up to that prime."
   ]
  },
  {
   "cell_type": "code",
   "execution_count": 11,
   "id": "3d8f15be-add4-4770-b056-0413a9209c16",
   "metadata": {},
   "outputs": [
    {
     "data": {
      "text/plain": [
       "array([ 1.,  2.,  2., ..., 85., 85., 85.])"
      ]
     },
     "execution_count": 11,
     "metadata": {},
     "output_type": "execute_result"
    }
   ],
   "source": [
    "delta_quantity_order_1 = count_deltas(primes, 1)\n",
    "delta_quantity_order_1"
   ]
  },
  {
   "cell_type": "markdown",
   "id": "792734a1-a474-48a6-8e8c-d588158c1f87",
   "metadata": {},
   "source": [
    "## Validate `delta_quantity_under_1b.npz`"
   ]
  },
  {
   "cell_type": "markdown",
   "id": "2066710c-6880-4982-8e89-cad2753abd85",
   "metadata": {},
   "source": [
    "Now lets compare results from this function to the data in `'delta_quantity_under_1b.npz'` First lets examine this file. This file is a collection of arrays. Each array contains delta quantity for a specific order."
   ]
  },
  {
   "cell_type": "code",
   "execution_count": 13,
   "id": "caa16130-f9c8-42e0-9b55-0d45244060f9",
   "metadata": {},
   "outputs": [
    {
     "data": {
      "text/plain": [
       "['order_1', 'order_10', 'order_100', 'order_1000']"
      ]
     },
     "execution_count": 13,
     "metadata": {},
     "output_type": "execute_result"
    }
   ],
   "source": [
    "delta_quantity_path = Path('delta_quantity_under_1b.npz')\n",
    "try:\n",
    "    delta_quantity = np.load(delta_quantity_path)\n",
    "except FileNotFoundError as error:\n",
    "        print(error)\n",
    "        in_colab = 'google.colab' in sys.modules\n",
    "        if in_colab:\n",
    "            print('running on colab, downloading data to session...')\n",
    "            !mkdir data\n",
    "            # Download delta_quantity_under_1b.npz\n",
    "            !wget https://bit.ly/3fZDjtY -O data/delta_quantity_under_1b.npz\n",
    "            delta_quantity = np.load(delta_quantity_path)\n",
    "        else:\n",
    "            print('Please download required data from paper repo')\n",
    "list(delta_quantity.keys())"
   ]
  },
  {
   "cell_type": "markdown",
   "id": "0755d0ca-5912-4f73-bcda-0e00a082182f",
   "metadata": {},
   "source": [
    "First generate all primes up to 1 bilion:"
   ]
  },
  {
   "cell_type": "code",
   "execution_count": null,
   "id": "559cc65f-b794-41b3-898f-315b50148221",
   "metadata": {},
   "outputs": [],
   "source": [
    "maxnumber = 1000000000\n",
    "primes = eratosthenes_sieve(maxnumber)\n",
    "print(f'Number of produced primes: {len(primes)}')"
   ]
  },
  {
   "cell_type": "markdown",
   "id": "487b7a1c-71ba-48cf-b079-81fa295cf137",
   "metadata": {},
   "source": [
    "Now produce delta quantity arrays; Specify order and check for validity of `delta_quantity_under_1b.npz`"
   ]
  },
  {
   "cell_type": "code",
   "execution_count": null,
   "id": "00d97fa2-e15e-47c2-99a2-17859adaa705",
   "metadata": {},
   "outputs": [],
   "source": [
    "order = 1 # Order should be 1, 10 or 1000\n",
    "delta_quantity_in_file = delta_quantity[f'order_{order}']\n",
    "produced_delta_quantity = count_deltas(primes, 1)\n",
    "if delta_quantity_in_file == produced_delta_quantity:\n",
    "    print(f'delta_quantity_under_1b.npz for order {order} is valid')"
   ]
  }
 ],
 "metadata": {
  "kernelspec": {
   "display_name": "Python 3",
   "language": "python",
   "name": "python3"
  },
  "language_info": {
   "codemirror_mode": {
    "name": "ipython",
    "version": 3
   },
   "file_extension": ".py",
   "mimetype": "text/x-python",
   "name": "python",
   "nbconvert_exporter": "python",
   "pygments_lexer": "ipython3",
   "version": "3.9.1"
  }
 },
 "nbformat": 4,
 "nbformat_minor": 5
}
