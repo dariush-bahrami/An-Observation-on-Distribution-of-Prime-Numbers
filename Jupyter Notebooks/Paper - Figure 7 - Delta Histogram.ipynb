{
 "cells": [
  {
   "cell_type": "markdown",
   "id": "61686ba4-d61a-4c5b-9852-e6e121e795e7",
   "metadata": {},
   "source": [
    "[![Open In Colab](https://colab.research.google.com/assets/colab-badge.svg)](https://colab.research.google.com/github/dariush-bahrami/An-Observation-on-Distribution-of-Prime-Numbers/blob/master/Jupyter%20Notebooks/Paper%20-%20Figure%207%20-%20Delta%20Histogram.ipynb)"
   ]
  },
  {
   "cell_type": "code",
   "execution_count": 2,
   "id": "2be3bd06-adca-4541-8aa1-d3a4e5274a93",
   "metadata": {},
   "outputs": [],
   "source": [
    "import sys\n",
    "import math\n",
    "from pathlib import Path\n",
    "import numpy as np\n",
    "import pandas as pd\n",
    "from matplotlib import pyplot as plt"
   ]
  },
  {
   "cell_type": "code",
   "execution_count": 3,
   "id": "26c22aad-7717-4f7f-9db2-22efc3c1f9a7",
   "metadata": {},
   "outputs": [],
   "source": [
    "def bins_number_sturges(data_number):\n",
    "    return int(math.log(data_number, 2)) + 1"
   ]
  },
  {
   "cell_type": "code",
   "execution_count": 4,
   "id": "d01f695c-b2ac-4a29-ae14-736a81e88726",
   "metadata": {},
   "outputs": [],
   "source": [
    "data_dir = Path('data')\n",
    "delta_frequency_path = Path.joinpath(data_dir, Path('delta_frequency_under_1b.csv'))"
   ]
  },
  {
   "cell_type": "code",
   "execution_count": 5,
   "id": "fe0d7efe-34a2-46b0-8738-f6198fb2e541",
   "metadata": {},
   "outputs": [],
   "source": [
    "try:\n",
    "    df = pd.read_csv(delta_frequency_path)\n",
    "except FileNotFoundError as error:\n",
    "        print(error)\n",
    "        in_colab = 'google.colab' in sys.modules\n",
    "        if in_colab:\n",
    "            print('running on colab, downloading data to session...')\n",
    "            !mkdir data\n",
    "            # Download delta_frequency_under_1b.csv\n",
    "            !wget https://bit.ly/3zcycOz -O data/delta_frequency_under_1b.csv\n",
    "        else:\n",
    "            print('Please download required data from paper repo')"
   ]
  },
  {
   "cell_type": "code",
   "execution_count": 6,
   "id": "7f36dc3b-fcb8-471f-9da4-736cd1bd6c46",
   "metadata": {},
   "outputs": [
    {
     "data": {
      "image/png": "[encoded data removed]",
      "text/plain": [
       "<Figure size 576x360 with 1 Axes>"
      ]
     },
     "metadata": {
      "needs_background": "light"
     },
     "output_type": "display_data"
    }
   ],
   "source": [
    "order = 1\n",
    "figsize = (8, 5)\n",
    "barplot_configs = {'color': 'seagreen',\n",
    "                   'edgecolor':'black'}\n",
    "plt.close()\n",
    "fig = plt.gcf()\n",
    "fig.set_size_inches(*figsize)\n",
    "\n",
    "# Calculate bins and heights\n",
    "data_num = df['frequency'].sum()\n",
    "bins_num = bins_number_sturges(data_num) # Sturges' formula\n",
    "bin_max = df['delta_log2'].max()\n",
    "bin_min = df['delta_log2'].min()\n",
    "bin_width = (bin_max-bin_min)/bins_num\n",
    "bins = np.linspace(bin_min, bin_max, bins_num)\n",
    "frequency = []\n",
    "for i in range(1, bins_num):\n",
    "    sub_df = df[(df['delta_log2']<bins[i]) & (df['delta_log2']>=bins[i-1])]\n",
    "    frequency.append(sub_df['frequency'].sum())\n",
    "frequency = np.array(frequency)\n",
    "bar_width = (bin_max-bin_min)/(bins_num-1)\n",
    "\n",
    "# Plot histogram\n",
    "plt.bar(bins[:-1], frequency,\n",
    "        align='edge',\n",
    "        width=bar_width,\n",
    "        label=f'$\\delta^{order}$ Histogram',\n",
    "        linewidth=1,\n",
    "        **barplot_configs)\n",
    "\n",
    "# Calculate stats\n",
    "mean = (df['frequency']*df['delta_log2']).sum() / data_num\n",
    "std = (((((df['delta_log2']-mean)**2)*df['frequency']).sum())/data_num)**0.5\n",
    "\n",
    "# Extra configs\n",
    "plt.title(f'$\\delta^{order}$ Histogram for Primes Below 1 Billion')\n",
    "plt.xlabel('$log_2(\\delta)$')\n",
    "plt.ylabel('Quantity')\n",
    "#     plt.legend(frameon=False)\n",
    "ax =plt.gca()\n",
    "text1 = f'$\\sigma={std:.3e}$'\n",
    "ax.text(0.025, 0.90, text1, color='black', transform=ax.transAxes)\n",
    "text2 = f'$\\mu={mean:.3e}$'\n",
    "ax.text(0.025, 0.95, text2, color='black', transform=ax.transAxes)\n",
    "plt.show()"
   ]
  },
  {
   "cell_type": "code",
   "execution_count": null,
   "id": "251c4a1b-f445-412b-9bdd-19128b7636f9",
   "metadata": {},
   "outputs": [],
   "source": []
  }
 ],
 "metadata": {
  "kernelspec": {
   "display_name": "Python 3",
   "language": "python",
   "name": "python3"
  },
  "language_info": {
   "codemirror_mode": {
    "name": "ipython",
    "version": 3
   },
   "file_extension": ".py",
   "mimetype": "text/x-python",
   "name": "python",
   "nbconvert_exporter": "python",
   "pygments_lexer": "ipython3",
   "version": "3.9.1"
  }
 },
 "nbformat": 4,
 "nbformat_minor": 5
}
