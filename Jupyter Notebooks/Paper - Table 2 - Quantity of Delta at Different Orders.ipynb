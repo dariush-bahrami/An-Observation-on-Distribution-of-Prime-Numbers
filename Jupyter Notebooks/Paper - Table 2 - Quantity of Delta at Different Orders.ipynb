{
 "cells": [
  {
   "cell_type": "markdown",
   "id": "556240de-012f-40c4-a5cd-0642e872dcc6",
   "metadata": {},
   "source": [
    "[![Open In Colab](https://colab.research.google.com/assets/colab-badge.svg)](https://colab.research.google.com/github/dariush-bahrami/An-Observation-on-Distribution-of-Prime-Numbers/blob/master/Jupyter%20Notebooks/Paper%20-%20Table%202%20-%20Quantity%20of%20Delta%20at%20Different%20Orders.ipynb)"
   ]
  },
  {
   "cell_type": "code",
   "execution_count": 2,
   "id": "ffa63836-2933-43fd-bc1c-d6240d99d9f0",
   "metadata": {},
   "outputs": [],
   "source": [
    "import sys\n",
    "from pathlib import Path\n",
    "import numpy as np"
   ]
  },
  {
   "cell_type": "code",
   "execution_count": 3,
   "id": "e667d19a-b061-46b3-a1e8-5ff369f747bf",
   "metadata": {},
   "outputs": [],
   "source": [
    "data_dir = Path('data')\n",
    "delta_quantity_path = Path.joinpath(data_dir, Path('delta_quantity_under_1b.npz'))"
   ]
  },
  {
   "cell_type": "code",
   "execution_count": 4,
   "id": "c276d363-4870-4109-826b-67e09c83d23c",
   "metadata": {},
   "outputs": [],
   "source": [
    "try:\n",
    "    delta_quantity = np.load(delta_quantity_path)\n",
    "except FileNotFoundError as error:\n",
    "        print(error)\n",
    "        in_colab = 'google.colab' in sys.modules\n",
    "        if in_colab:\n",
    "            print('running on colab, downloading data to session...')\n",
    "            !mkdir data\n",
    "            # Download delta_quantity_under_1b.npz\n",
    "            !wget https://bit.ly/3fZDjtY -O data/delta_quantity_under_1b.npz\n",
    "        else:\n",
    "            print('Please download required data from paper repo')"
   ]
  },
  {
   "cell_type": "code",
   "execution_count": 5,
   "id": "2e614bb9-143e-40a6-ab69-ead47cab8550",
   "metadata": {},
   "outputs": [
    {
     "name": "stdout",
     "output_type": "stream",
     "text": [
      "δ quantity data is available for following orders:\n",
      "order_1\n",
      "order_10\n",
      "order_100\n",
      "order_1000\n"
     ]
    }
   ],
   "source": [
    "print('δ quantity data is available for following orders:')\n",
    "for order in delta_quantity.keys():\n",
    "    print(order)"
   ]
  },
  {
   "cell_type": "code",
   "execution_count": 6,
   "id": "7a7a4c95-f2df-436f-8d64-a2d01d439bce",
   "metadata": {},
   "outputs": [
    {
     "name": "stdout",
     "output_type": "stream",
     "text": [
      "δ Quantity for order_1: 3338.0\n",
      "δ Quantity for order_10: 21120.0\n",
      "δ Quantity for order_100: 240930.0\n",
      "δ Quantity for order_1000: 3011700.0\n"
     ]
    }
   ],
   "source": [
    "for order in ['order_1', 'order_10', 'order_100', 'order_1000']:\n",
    "    print(f'δ Quantity for {order}:', end=' ')\n",
    "    print(delta_quantity[order][-1])"
   ]
  },
  {
   "cell_type": "code",
   "execution_count": 7,
   "id": "ebd05a38-317b-42b0-bb70-9e6ab18cd375",
   "metadata": {},
   "outputs": [
    {
     "name": "stdout",
     "output_type": "stream",
     "text": [
      "δ Quantity relative to order 1 for order_10: 6.327142001198323\n",
      "δ Quantity relative to order 1 for order_100: 72.1779508687837\n",
      "δ Quantity relative to order 1 for order_1000: 902.2468544038346\n"
     ]
    }
   ],
   "source": [
    "order_1_quantity = delta_quantity['order_1'][-1]\n",
    "for order in ['order_10', 'order_100', 'order_1000']:\n",
    "    print(f'δ Quantity relative to order 1 for {order}:', end=' ')\n",
    "    print(delta_quantity[order][-1]/order_1_quantity)"
   ]
  },
  {
   "cell_type": "code",
   "execution_count": null,
   "id": "74fc0fc4-0ba1-4c04-afe1-b949dfc28955",
   "metadata": {},
   "outputs": [],
   "source": []
  }
 ],
 "metadata": {
  "kernelspec": {
   "display_name": "Python 3",
   "language": "python",
   "name": "python3"
  },
  "language_info": {
   "codemirror_mode": {
    "name": "ipython",
    "version": 3
   },
   "file_extension": ".py",
   "mimetype": "text/x-python",
   "name": "python",
   "nbconvert_exporter": "python",
   "pygments_lexer": "ipython3",
   "version": "3.9.1"
  }
 },
 "nbformat": 4,
 "nbformat_minor": 5
}
