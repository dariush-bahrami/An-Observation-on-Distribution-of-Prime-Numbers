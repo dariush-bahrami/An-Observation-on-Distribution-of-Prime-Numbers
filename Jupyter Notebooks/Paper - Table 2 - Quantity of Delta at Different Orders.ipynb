{
 "cells": [
  {
   "cell_type": "code",
   "execution_count": 3,
   "id": "ffa63836-2933-43fd-bc1c-d6240d99d9f0",
   "metadata": {},
   "outputs": [],
   "source": [
    "from pathlib import Path\n",
    "import numpy as np"
   ]
  },
  {
   "cell_type": "code",
   "execution_count": 4,
   "id": "e667d19a-b061-46b3-a1e8-5ff369f747bf",
   "metadata": {},
   "outputs": [],
   "source": [
    "data_dir = Path('data')\n",
    "delta_quantity_path = Path.joinpath(data_dir, Path('delta_quantity_under_1b.npz'))"
   ]
  },
  {
   "cell_type": "code",
   "execution_count": 10,
   "id": "2e614bb9-143e-40a6-ab69-ead47cab8550",
   "metadata": {},
   "outputs": [
    {
     "name": "stdout",
     "output_type": "stream",
     "text": [
      "δ quantity data is available for following orders:\n",
      "order_1\n",
      "order_10\n",
      "order_100\n",
      "order_1000\n"
     ]
    }
   ],
   "source": [
    "delta_quantity = np.load(delta_quantity_path)\n",
    "print('δ quantity data is available for following orders:')\n",
    "for order in delta_quantity.keys():\n",
    "    print(order)"
   ]
  },
  {
   "cell_type": "code",
   "execution_count": 16,
   "id": "7a7a4c95-f2df-436f-8d64-a2d01d439bce",
   "metadata": {},
   "outputs": [
    {
     "name": "stdout",
     "output_type": "stream",
     "text": [
      "δ Quantity for order_1: 3338.0\n",
      "δ Quantity for order_10: 21120.0\n",
      "δ Quantity for order_100: 240930.0\n",
      "δ Quantity for order_1000: 3011700.0\n"
     ]
    }
   ],
   "source": [
    "for order in ['order_1', 'order_10', 'order_100', 'order_1000']:\n",
    "    print(f'δ Quantity for {order}:', end=' ')\n",
    "    print(delta_quantity[order][-1])"
   ]
  },
  {
   "cell_type": "code",
   "execution_count": 17,
   "id": "ebd05a38-317b-42b0-bb70-9e6ab18cd375",
   "metadata": {},
   "outputs": [
    {
     "name": "stdout",
     "output_type": "stream",
     "text": [
      "δ Quantity relative to order 1 for order_10: 6.327142001198323\n",
      "δ Quantity relative to order 1 for order_100: 72.1779508687837\n",
      "δ Quantity relative to order 1 for order_1000: 902.2468544038346\n"
     ]
    }
   ],
   "source": [
    "order_1_quantity = delta_quantity['order_1'][-1]\n",
    "for order in ['order_10', 'order_100', 'order_1000']:\n",
    "    print(f'δ Quantity relative to order 1 for {order}:', end=' ')\n",
    "    print(delta_quantity[order][-1]/order_1_quantity)"
   ]
  },
  {
   "cell_type": "code",
   "execution_count": null,
   "id": "213f368d-24e9-499b-9d26-4acdf4aa54c9",
   "metadata": {},
   "outputs": [],
   "source": []
  }
 ],
 "metadata": {
  "kernelspec": {
   "display_name": "Python 3",
   "language": "python",
   "name": "python3"
  },
  "language_info": {
   "codemirror_mode": {
    "name": "ipython",
    "version": 3
   },
   "file_extension": ".py",
   "mimetype": "text/x-python",
   "name": "python",
   "nbconvert_exporter": "python",
   "pygments_lexer": "ipython3",
   "version": "3.9.1"
  }
 },
 "nbformat": 4,
 "nbformat_minor": 5
}
