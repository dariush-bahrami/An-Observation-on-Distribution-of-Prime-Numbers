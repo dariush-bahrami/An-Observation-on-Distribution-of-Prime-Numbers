{
 "cells": [
  {
   "cell_type": "markdown",
   "id": "5ca81b1b-206a-4173-aa7c-ee6e0f1ff9c7",
   "metadata": {},
   "source": [
    "[![Open In Colab](https://colab.research.google.com/assets/colab-badge.svg)](https://colab.research.google.com/github/dariush-bahrami/An-Observation-on-Distribution-of-Prime-Numbers/blob/master/Jupyter%20Notebooks/Paper%20-%20Table%204%20-%20Quantity%20of%20Delta%20relative%20to%20quantity%20of%20primes.ipynb)"
   ]
  },
  {
   "cell_type": "code",
   "execution_count": 4,
   "id": "de1d038a-257e-40ed-99b0-b9983ef0d2b5",
   "metadata": {},
   "outputs": [],
   "source": [
    "import sys\n",
    "from pathlib import Path\n",
    "import numpy as np\n",
    "import matplotlib.pyplot as plt"
   ]
  },
  {
   "cell_type": "code",
   "execution_count": 5,
   "id": "3522e5a5-e9e7-46fb-9598-612ee615ebb0",
   "metadata": {},
   "outputs": [],
   "source": [
    "data_dir = Path('data')\n",
    "delta_quantity_path = Path.joinpath(data_dir, Path('delta_quantity_under_1b.npz'))"
   ]
  },
  {
   "cell_type": "code",
   "execution_count": 6,
   "id": "e73eab4c-71aa-4a99-aaa2-fc08a01dd72d",
   "metadata": {},
   "outputs": [],
   "source": [
    "try:\n",
    "    delta_quantity = np.load(delta_quantity_path)\n",
    "except FileNotFoundError as error:\n",
    "        print(error)\n",
    "        in_colab = 'google.colab' in sys.modules\n",
    "        if in_colab:\n",
    "            print('running on colab, downloading data to session...')\n",
    "            !mkdir data\n",
    "            # Download delta_quantity_under_1b.npz\n",
    "            !wget https://bit.ly/3fZDjtY -O data/delta_quantity_under_1b.npz\n",
    "        else:\n",
    "            print('Please download required data from paper repo')"
   ]
  },
  {
   "cell_type": "code",
   "execution_count": 7,
   "id": "c3c57bca-343f-4623-b22d-0e2d9c75a3bb",
   "metadata": {
    "tags": []
   },
   "outputs": [
    {
     "name": "stdout",
     "output_type": "stream",
     "text": [
      "δ quantity data is available for following orders:\n",
      "order_1\n",
      "order_10\n",
      "order_100\n",
      "order_1000\n"
     ]
    }
   ],
   "source": [
    "print('δ quantity data is available for following orders:')\n",
    "for order in delta_quantity.keys():\n",
    "    print(order)"
   ]
  },
  {
   "cell_type": "code",
   "execution_count": 8,
   "id": "28c8145f-6afa-45ad-99fd-6d796176386e",
   "metadata": {},
   "outputs": [],
   "source": [
    "orders = (1, 10, 100, 1000)\n",
    "sizes = [delta_quantity[f'order_{o}'].size for o in orders]\n",
    "arrays = [delta_quantity[f'order_{o}'][-1]/sizes[i] for i, o in enumerate(orders)]\n",
    "data = {o:q for o, q in zip(orders, arrays)}"
   ]
  },
  {
   "cell_type": "code",
   "execution_count": 9,
   "id": "cc1e126e-e1d9-4351-b5d4-80df17bedcc0",
   "metadata": {},
   "outputs": [
    {
     "name": "stdout",
     "output_type": "stream",
     "text": [
      "order\tδ Quantity Relative to Primes Quantity\n",
      "\n",
      "1   \t6.564723731330756e-05                 \n",
      "\n",
      "10  \t4.153595395047238e-04                 \n",
      "\n",
      "100 \t4.738301520390430e-03                 \n",
      "\n",
      "1000\t5.923234083843038e-02                 \n",
      "\n"
     ]
    }
   ],
   "source": [
    "print('order\\tδ Quantity Relative to Primes Quantity\\n')\n",
    "for order in data:\n",
    "    print(f'{order:<4}\\t{data[order]:<38.15e}\\n')"
   ]
  },
  {
   "cell_type": "code",
   "execution_count": null,
   "id": "5433cea6-4061-453e-aa7d-1793703ed29a",
   "metadata": {},
   "outputs": [],
   "source": []
  }
 ],
 "metadata": {
  "kernelspec": {
   "display_name": "Python 3",
   "language": "python",
   "name": "python3"
  },
  "language_info": {
   "codemirror_mode": {
    "name": "ipython",
    "version": 3
   },
   "file_extension": ".py",
   "mimetype": "text/x-python",
   "name": "python",
   "nbconvert_exporter": "python",
   "pygments_lexer": "ipython3",
   "version": "3.9.1"
  }
 },
 "nbformat": 4,
 "nbformat_minor": 5
}
