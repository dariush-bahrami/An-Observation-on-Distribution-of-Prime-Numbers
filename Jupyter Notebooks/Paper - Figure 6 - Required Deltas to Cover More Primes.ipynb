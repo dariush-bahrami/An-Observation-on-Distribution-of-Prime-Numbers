{
 "cells": [
  {
   "cell_type": "markdown",
   "id": "bc3e97af-19ca-4fb0-97a2-b87fab09f71a",
   "metadata": {},
   "source": [
    "[![Open In Colab](https://colab.research.google.com/assets/colab-badge.svg)](https://colab.research.google.com/github/dariush-bahrami/An-Observation-on-Distribution-of-Prime-Numbers/blob/master/Jupyter%20Notebooks/Paper%20-%20Figure%206%20-%20Required%20Deltas%20to%20Cover%20More%20Primes.ipynb)"
   ]
  },
  {
   "cell_type": "code",
   "execution_count": 2,
   "id": "83a67252-172c-4fec-bfbb-f1ef34cdbf1b",
   "metadata": {},
   "outputs": [],
   "source": [
    "import sys\n",
    "from pathlib import Path\n",
    "import pandas as pd\n",
    "import matplotlib.pyplot as plt\n",
    "import numpy as np"
   ]
  },
  {
   "cell_type": "code",
   "execution_count": 3,
   "id": "87c28c5c-6178-466d-b61b-4a5b92354f6c",
   "metadata": {},
   "outputs": [],
   "source": [
    "data_dir = Path('data')\n",
    "delta_frequency_path = Path.joinpath(data_dir, Path('delta_frequency_under_1b.csv'))"
   ]
  },
  {
   "cell_type": "code",
   "execution_count": 4,
   "id": "a2ee283f-d4b7-4f0f-b468-3a33e9a3229b",
   "metadata": {},
   "outputs": [],
   "source": [
    "try:\n",
    "    df = pd.read_csv(delta_frequency_path)\n",
    "except FileNotFoundError as error:\n",
    "        print(error)\n",
    "        in_colab = 'google.colab' in sys.modules\n",
    "        if in_colab:\n",
    "            print('running on colab, downloading data to session...')\n",
    "            !mkdir data\n",
    "            # Download delta_frequency_under_1b.csv\n",
    "            !wget https://bit.ly/3zcycOz -O data/delta_frequency_under_1b.csv\n",
    "        else:\n",
    "            print('Please download required data from paper repo')"
   ]
  },
  {
   "cell_type": "code",
   "execution_count": 5,
   "id": "f81c1619-e923-4461-a924-b6ec10f6dfa5",
   "metadata": {},
   "outputs": [
    {
     "data": {
      "text/html": [
       "<div>\n",
       "<style scoped>\n",
       "    .dataframe tbody tr th:only-of-type {\n",
       "        vertical-align: middle;\n",
       "    }\n",
       "\n",
       "    .dataframe tbody tr th {\n",
       "        vertical-align: top;\n",
       "    }\n",
       "\n",
       "    .dataframe thead th {\n",
       "        text-align: right;\n",
       "    }\n",
       "</style>\n",
       "<table border=\"1\" class=\"dataframe\">\n",
       "  <thead>\n",
       "    <tr style=\"text-align: right;\">\n",
       "      <th></th>\n",
       "      <th>delta</th>\n",
       "      <th>delta_log2</th>\n",
       "      <th>frequency</th>\n",
       "      <th>density</th>\n",
       "      <th>cumulative_density</th>\n",
       "    </tr>\n",
       "  </thead>\n",
       "  <tbody>\n",
       "    <tr>\n",
       "      <th>0</th>\n",
       "      <td>2</td>\n",
       "      <td>1.000000</td>\n",
       "      <td>2047829</td>\n",
       "      <td>0.040274</td>\n",
       "      <td>0.040274</td>\n",
       "    </tr>\n",
       "    <tr>\n",
       "      <th>1</th>\n",
       "      <td>1/2</td>\n",
       "      <td>-1.000000</td>\n",
       "      <td>2046288</td>\n",
       "      <td>0.040244</td>\n",
       "      <td>0.080518</td>\n",
       "    </tr>\n",
       "    <tr>\n",
       "      <th>2</th>\n",
       "      <td>3/2</td>\n",
       "      <td>0.584963</td>\n",
       "      <td>1460663</td>\n",
       "      <td>0.028726</td>\n",
       "      <td>0.109244</td>\n",
       "    </tr>\n",
       "    <tr>\n",
       "      <th>3</th>\n",
       "      <td>2/3</td>\n",
       "      <td>-0.584963</td>\n",
       "      <td>1460572</td>\n",
       "      <td>0.028725</td>\n",
       "      <td>0.137968</td>\n",
       "    </tr>\n",
       "  </tbody>\n",
       "</table>\n",
       "</div>"
      ],
      "text/plain": [
       "  delta  delta_log2  frequency   density  cumulative_density\n",
       "0     2    1.000000    2047829  0.040274            0.040274\n",
       "1   1/2   -1.000000    2046288  0.040244            0.080518\n",
       "2   3/2    0.584963    1460663  0.028726            0.109244\n",
       "3   2/3   -0.584963    1460572  0.028725            0.137968"
      ]
     },
     "execution_count": 5,
     "metadata": {},
     "output_type": "execute_result"
    }
   ],
   "source": [
    "df.head(4)"
   ]
  },
  {
   "cell_type": "code",
   "execution_count": 6,
   "id": "86870c1d-9c71-4d5f-b035-69f5df85d742",
   "metadata": {},
   "outputs": [],
   "source": [
    "total_deltas_quantity = len(df.index)\n",
    "data = {'Primes Coverage (%)': np.linspace(1, 99.99999, 1000),\n",
    "        'Required Deltas Quantity': [],\n",
    "        'Required Deltas (%)': []}\n",
    "for p in data['Primes Coverage (%)']:\n",
    "    quantity = len(df[df['cumulative_density']<(p/100)].index)\n",
    "    data['Required Deltas Quantity'].append(quantity)\n",
    "    data['Required Deltas (%)'].append((quantity/total_deltas_quantity)*100)\n",
    "data_df = pd.DataFrame(data)"
   ]
  },
  {
   "cell_type": "code",
   "execution_count": 7,
   "id": "aad1bd80-6e1a-4520-826e-ccffe7b0fbb2",
   "metadata": {},
   "outputs": [
    {
     "data": {
      "image/png": "[encoded data removed]",
      "text/plain": [
       "<Figure size 576x360 with 1 Axes>"
      ]
     },
     "metadata": {
      "needs_background": "light"
     },
     "output_type": "display_data"
    }
   ],
   "source": [
    "tab_linecolors = ['tab:green', 'tab:red', 'tab:blue', 'tab:orange', 'tab:purple']\n",
    "figsize = (8, 5)\n",
    "plt.close()\n",
    "fig, ax = plt.subplots()\n",
    "fig.set_size_inches(*figsize)\n",
    "x, y = data_df['Primes Coverage (%)'], data_df['Required Deltas (%)']\n",
    "ax.plot(x, y, linewidth=2, color=tab_linecolors[0])\n",
    "ax.set_title('Required $\\delta$ to Cover More Primes')\n",
    "ax.set_xlabel('Prime Coverage (%)')\n",
    "ax.set_xscale('linear')\n",
    "ax.set_ylabel('Required $\\delta$ (%)')\n",
    "ax.set_yscale('linear')\n",
    "plt.show()"
   ]
  },
  {
   "cell_type": "code",
   "execution_count": null,
   "id": "57b4bc01-f98c-4b11-9d18-6476d9a82870",
   "metadata": {},
   "outputs": [],
   "source": []
  }
 ],
 "metadata": {
  "kernelspec": {
   "display_name": "Python 3",
   "language": "python",
   "name": "python3"
  },
  "language_info": {
   "codemirror_mode": {
    "name": "ipython",
    "version": 3
   },
   "file_extension": ".py",
   "mimetype": "text/x-python",
   "name": "python",
   "nbconvert_exporter": "python",
   "pygments_lexer": "ipython3",
   "version": "3.9.1"
  }
 },
 "nbformat": 4,
 "nbformat_minor": 5
}
