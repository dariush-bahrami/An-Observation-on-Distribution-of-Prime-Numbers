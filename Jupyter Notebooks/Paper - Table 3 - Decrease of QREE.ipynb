{
 "cells": [
  {
   "cell_type": "code",
   "execution_count": 1,
   "id": "bf6e3747-d7c0-473e-988a-66ea2fa851b8",
   "metadata": {},
   "outputs": [],
   "source": [
    "from pathlib import Path\n",
    "import numpy as np"
   ]
  },
  {
   "cell_type": "code",
   "execution_count": 2,
   "id": "b4c6f495-95cb-42d8-b840-443301b70336",
   "metadata": {},
   "outputs": [],
   "source": [
    "data_dir = Path('data')\n",
    "delta_quantity_path = Path.joinpath(data_dir, Path('delta_quantity_under_1b.npz'))"
   ]
  },
  {
   "cell_type": "code",
   "execution_count": 3,
   "id": "f4d7dad8-f420-4b2b-aa6c-29b33ae4ecb8",
   "metadata": {},
   "outputs": [
    {
     "name": "stdout",
     "output_type": "stream",
     "text": [
      "δ quantity data is available for following orders:\n",
      "order_1\n",
      "order_10\n",
      "order_100\n",
      "order_1000\n"
     ]
    }
   ],
   "source": [
    "delta_quantity = np.load(delta_quantity_path)\n",
    "print('δ quantity data is available for following orders:')\n",
    "for order in delta_quantity.keys():\n",
    "    print(order)"
   ]
  },
  {
   "cell_type": "code",
   "execution_count": 4,
   "id": "ba0e1ec8-289e-4970-90e8-82ce76e84cb1",
   "metadata": {},
   "outputs": [],
   "source": [
    "def calculate_qree(order, delta_quantity, order_1_delta_quantity):\n",
    "    ratio = delta_quantity/order_1_delta_quantity\n",
    "    return abs(ratio-order) / order"
   ]
  },
  {
   "cell_type": "code",
   "execution_count": 5,
   "id": "f6c4f3f5-1636-4d1e-a0c0-00e59f88bbad",
   "metadata": {},
   "outputs": [
    {
     "name": "stdout",
     "output_type": "stream",
     "text": [
      "QREE for δ of order_10  : 0.36728579988016774\n",
      "QREE for δ of order_100 : 0.27822049131216303\n",
      "QREE for δ of order_1000: 0.09775314559616538\n"
     ]
    }
   ],
   "source": [
    "order_1_delta_quantity = delta_quantity['order_1'][-1]\n",
    "for order in ['order_10', 'order_100', 'order_1000']:\n",
    "    qree = calculate_qree(int(order.split('_')[1]),\n",
    "                          delta_quantity[order][-1],\n",
    "                          order_1_delta_quantity)\n",
    "    print(f'QREE for δ of {order:10}: {qree}')"
   ]
  },
  {
   "cell_type": "code",
   "execution_count": null,
   "id": "76b1f950-e09b-4c1e-a8d0-ea6888b9fd8a",
   "metadata": {},
   "outputs": [],
   "source": []
  }
 ],
 "metadata": {
  "kernelspec": {
   "display_name": "Python 3",
   "language": "python",
   "name": "python3"
  },
  "language_info": {
   "codemirror_mode": {
    "name": "ipython",
    "version": 3
   },
   "file_extension": ".py",
   "mimetype": "text/x-python",
   "name": "python",
   "nbconvert_exporter": "python",
   "pygments_lexer": "ipython3",
   "version": "3.9.1"
  }
 },
 "nbformat": 4,
 "nbformat_minor": 5
}
