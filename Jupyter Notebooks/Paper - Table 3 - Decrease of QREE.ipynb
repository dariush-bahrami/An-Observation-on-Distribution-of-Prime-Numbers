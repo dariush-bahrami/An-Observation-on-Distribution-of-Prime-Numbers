{
 "cells": [
  {
   "cell_type": "markdown",
   "id": "f2201299-b5af-4bd2-9079-47e5581bf250",
   "metadata": {},
   "source": [
    "[![Open In Colab](https://colab.research.google.com/assets/colab-badge.svg)](https://colab.research.google.com/github/dariush-bahrami/An-Observation-on-Distribution-of-Prime-Numbers/blob/master/Jupyter%20Notebooks/Paper%20-%20Table%203%20-%20Decrease%20of%20QREE.ipynb)"
   ]
  },
  {
   "cell_type": "code",
   "execution_count": 1,
   "id": "bf6e3747-d7c0-473e-988a-66ea2fa851b8",
   "metadata": {},
   "outputs": [],
   "source": [
    "import sys\n",
    "from pathlib import Path\n",
    "import numpy as np"
   ]
  },
  {
   "cell_type": "code",
   "execution_count": 2,
   "id": "b4c6f495-95cb-42d8-b840-443301b70336",
   "metadata": {},
   "outputs": [],
   "source": [
    "data_dir = Path('data')\n",
    "delta_quantity_path = Path.joinpath(data_dir, Path('delta_quantity_under_1b.npz'))"
   ]
  },
  {
   "cell_type": "code",
   "execution_count": 3,
   "id": "685790c8-c712-4c4a-af83-c4e8a10f7201",
   "metadata": {},
   "outputs": [],
   "source": [
    "try:\n",
    "    delta_quantity = np.load(delta_quantity_path)\n",
    "except FileNotFoundError as error:\n",
    "        print(error)\n",
    "        in_colab = 'google.colab' in sys.modules\n",
    "        if in_colab:\n",
    "            print('running on colab, downloading data to session...')\n",
    "            !mkdir data\n",
    "            # Download delta_quantity_under_1b.npz\n",
    "            !wget https://bit.ly/3fZDjtY -O data/delta_quantity_under_1b.npz\n",
    "        else:\n",
    "            print('Please download required data from paper repo')"
   ]
  },
  {
   "cell_type": "code",
   "execution_count": 4,
   "id": "f4d7dad8-f420-4b2b-aa6c-29b33ae4ecb8",
   "metadata": {},
   "outputs": [
    {
     "name": "stdout",
     "output_type": "stream",
     "text": [
      "δ quantity data is available for following orders:\n",
      "order_1\n",
      "order_10\n",
      "order_100\n",
      "order_1000\n"
     ]
    }
   ],
   "source": [
    "print('δ quantity data is available for following orders:')\n",
    "for order in delta_quantity.keys():\n",
    "    print(order)"
   ]
  },
  {
   "cell_type": "code",
   "execution_count": 5,
   "id": "ba0e1ec8-289e-4970-90e8-82ce76e84cb1",
   "metadata": {},
   "outputs": [],
   "source": [
    "def calculate_qree(order, delta_quantity, order_1_delta_quantity):\n",
    "    ratio = delta_quantity/order_1_delta_quantity\n",
    "    return abs(ratio-order) / order"
   ]
  },
  {
   "cell_type": "code",
   "execution_count": 6,
   "id": "f6c4f3f5-1636-4d1e-a0c0-00e59f88bbad",
   "metadata": {},
   "outputs": [
    {
     "name": "stdout",
     "output_type": "stream",
     "text": [
      "QREE for δ of order_10  : 0.36728579988016774\n",
      "QREE for δ of order_100 : 0.27822049131216303\n",
      "QREE for δ of order_1000: 0.09775314559616538\n"
     ]
    }
   ],
   "source": [
    "order_1_delta_quantity = delta_quantity['order_1'][-1]\n",
    "for order in ['order_10', 'order_100', 'order_1000']:\n",
    "    qree = calculate_qree(int(order.split('_')[1]),\n",
    "                          delta_quantity[order][-1],\n",
    "                          order_1_delta_quantity)\n",
    "    print(f'QREE for δ of {order:10}: {qree}')"
   ]
  },
  {
   "cell_type": "code",
   "execution_count": null,
   "id": "55232258-cf57-44db-aaad-9626f762dd87",
   "metadata": {},
   "outputs": [],
   "source": []
  }
 ],
 "metadata": {
  "kernelspec": {
   "display_name": "Python 3",
   "language": "python",
   "name": "python3"
  },
  "language_info": {
   "codemirror_mode": {
    "name": "ipython",
    "version": 3
   },
   "file_extension": ".py",
   "mimetype": "text/x-python",
   "name": "python",
   "nbconvert_exporter": "python",
   "pygments_lexer": "ipython3",
   "version": "3.9.1"
  }
 },
 "nbformat": 4,
 "nbformat_minor": 5
}
